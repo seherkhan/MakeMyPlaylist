{
 "cells": [
  {
   "cell_type": "code",
   "execution_count": 2,
   "metadata": {},
   "outputs": [],
   "source": [
    "from sklearn.cluster import KMeans, AffinityPropagation, SpectralClustering\n",
    "from sklearn import metrics\n",
    "import numpy as np\n",
    "import pandas as pd\n",
    "from sklearn.preprocessing import StandardScaler\n",
    "import matplotlib.pyplot as plt\n",
    "\n",
    "n=8 # total clusters\n",
    "path_to_data_files=\"/home/seherkhan/myfiles/git/makemyplaylist/Clustering-Approach2/Data/\"\n",
    "\n",
    "# get training data\n",
    "df = pd.read_csv(path_to_data_files+\"training_features_triplets.csv\")\n",
    "scaler = StandardScaler(copy=True, with_mean=True, with_std=True)\n",
    "X=scaler.fit_transform(df.iloc[:,1:39])\n",
    "\n",
    "df1 = pd.read_csv(path_to_data_files+\"validation_features_triplets.csv\")\n",
    "df2 = pd.read_csv(path_to_data_files+\"test_features_triplets.csv\")"
   ]
  },
  {
   "cell_type": "code",
   "execution_count": null,
   "metadata": {},
   "outputs": [],
   "source": []
  }
 ],
 "metadata": {
  "kernelspec": {
   "display_name": "Python 2",
   "language": "python",
   "name": "python2"
  },
  "language_info": {
   "codemirror_mode": {
    "name": "ipython",
    "version": 2
   },
   "file_extension": ".py",
   "mimetype": "text/x-python",
   "name": "python",
   "nbconvert_exporter": "python",
   "pygments_lexer": "ipython2",
   "version": "2.7.15rc1"
  }
 },
 "nbformat": 4,
 "nbformat_minor": 2
}
