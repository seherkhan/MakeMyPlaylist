{
 "cells": [
  {
   "cell_type": "code",
   "execution_count": null,
   "metadata": {
    "colab": {},
    "colab_type": "code",
    "id": "pcfat8PSZufT"
   },
   "outputs": [],
   "source": [
    "from sklearn.cluster import KMeans, AffinityPropagation, SpectralClustering\n",
    "from sklearn import metrics\n",
    "import numpy as np\n",
    "import pandas as pd\n",
    "from sklearn.preprocessing import StandardScaler\n",
    "import matplotlib.pyplot as plt\n",
    "\n",
    "n=8 # total clusters\n",
    "path_to_data_files=\"/home/seherkhan/IdeaProjects/imf552_proj/.idea/FINAL/clustering-13Nov/data/\"\n",
    "\n",
    "# get training data\n",
    "df = pd.read_csv(path_to_data_files+\"training_features_triplets.csv\")\n",
    "scaler = StandardScaler(copy=True, with_mean=True, with_std=True)\n",
    "X=scaler.fit_transform(df.iloc[:,1:39])\n",
    "\n",
    "# cluster training\n",
    "cluster_algo_name='kmeans'\n",
    "estimator = KMeans(init='k-means++', n_clusters=n, n_init=10).fit(X)\n",
    "y=pd.DataFrame(estimator.labels_)\n",
    "df2=pd.concat([df.iloc[:,0], y, df.iloc[:,1:39]], axis=1, sort=False) # remove genre codes column\n",
    "df2.rename(columns={0:'cluster_number'}, inplace=True)\n",
    "\n",
    "#cluster_number = 4\n",
    "#df2 has clusters\n",
    "\n",
    "def get_songs_of_user(file,user_id):\n",
    "    df = pd.read_csv(file,sep=',',header=None)\n",
    "    df.columns=['user_id','track_id','count']\n",
    "    subset = df[(df.user_id == user_id)].reset_index()[['track_id','count']]\n",
    "    return subset\n",
    "\n",
    "def get_users_in_cluster(df,cluster_number):\n",
    "    #df = pd.read_csv(file,sep=',')\n",
    "    subset = df[(df.cluster_number == cluster_number)].reset_index()[['userID']]\n",
    "    #print subset\n",
    "    return np.ravel(subset)\n",
    "\n",
    "def get_songs_in_cluster(df,file_withsongs,cluster_number):\n",
    "    #print 'get users in cluster '+str(cluster_number)+' from file '+file_withclusters # works\n",
    "    user_ids = get_users_in_cluster(df,cluster_number)\n",
    "    #print 'get songs of user '+str(user_ids[0])+' from file '+file_withsongs\n",
    "    out_df = get_songs_of_user(file_withsongs,user_ids[0])\n",
    "    tmp_songlist=[]\n",
    "    #assuming songs not repeated within one user's history\n",
    "    tmp_songlist=list(out_df.iloc[:,0])\n",
    "    for i in range(1,len(user_ids)):\n",
    "        subset = get_songs_of_user(file_withsongs,user_ids[i])\n",
    "        for r in subset.iterrows():\n",
    "            if(str(r[1]['track_id']) not in tmp_songlist):\n",
    "                tmp_songlist.append(r[1]['track_id'])\n",
    "                out_df=out_df.append(r[1])\n",
    "    out_df=out_df.reset_index()\n",
    "    return out_df\n",
    "\n",
    "input_path='/home/seherkhan/IdeaProjects/imf552_proj/.idea/FINAL/clustering-13Nov/data/'\n",
    "file_training_withsongs='training_triplets_FINAL_min_5.csv'\n",
    "\n",
    "df_valid = pd.read_csv(input_path+'validation_features_triplets.csv')\n",
    "X_valid = scaler.transform(df_valid.iloc[:,1:39])\n",
    "pred_y=pd.DataFrame(estimator.predict(X_valid))\n",
    "df2_valid=pd.concat([df_valid.iloc[:,0], pred_y, df_valid.iloc[:,1:39]], axis=1, sort=False) # remove genre codes column\n",
    "df2_valid.rename(columns={0:'cluster_number'}, inplace=True)\n",
    "\n",
    "#print X.shape[0] #(8922,38)"
   ]
  },
  {
   "cell_type": "code",
   "execution_count": 20,
   "metadata": {},
   "outputs": [
    {
     "data": {
      "image/png": "[encoded data removed]",
      "text/plain": [
       "<Figure size 432x288 with 1 Axes>"
      ]
     },
     "metadata": {
      "needs_background": "light"
     },
     "output_type": "display_data"
    }
   ],
   "source": [
    "sample_size = X.shape[0]\n",
    "#n = 8\n",
    "sil_scores_2=[]\n",
    "cluster_algo_name_2='kmeans'\n",
    "for n in range(2,13):\n",
    "    estimator = KMeans(init='k-means++', n_clusters=n, n_init=10).fit(X)\n",
    "    sil_score=metrics.silhouette_score(X, estimator.labels_,metric='euclidean',sample_size=sample_size)\n",
    "    print str(n)+': '+str(sil_score)\n",
    "    sil_scores_1.append(sil_score)"
   ]
  },
  {
   "cell_type": "code",
   "execution_count": null,
   "metadata": {
    "colab": {},
    "colab_type": "code",
    "id": "4ATClphQZufc",
    "outputId": "56791739-4d89-446a-cf12-aca776975321",
    "scrolled": true
   },
   "outputs": [],
   "source": [
    "cluster_songs=dict()\n",
    "for cluster_number in range(8):#range(n):\n",
    "    cluster_songs[cluster_number]=get_songs_in_cluster(df2_valid,input_path+file_training_withsongs,cluster_number)\n",
    "    print cluster_songs[cluster_number]"
   ]
  },
  {
   "cell_type": "code",
   "execution_count": null,
   "metadata": {
    "colab": {},
    "colab_type": "code",
    "id": "FlLresW3Zufr",
    "outputId": "57953d95-7db3-4052-8e09-d854cd0ecba4"
   },
   "outputs": [],
   "source": [
    "cluster_number=0\n",
    "all_songs = cluster_songs[cluster_number].iloc[:,1:3]\n",
    "\n",
    "seed_list=[\"TREKLEO128F1459433\",\"TRCPWIH128F42424E1\",\"TRKRRUV128F92F20F1\",\"TRRBUQL12903CCE501\",\"TRGTNXU128F1469AEB\",\"TRTLYMG128F92D0138\"]\n",
    "\n",
    "def getSetDiff(seed_list,all_songs):\n",
    "    output=[]\n",
    "    for track_id in all_songs.iloc[:,0]:\n",
    "        if track_id not in seed_list:\n",
    "            output.append(track_id)\n",
    "    return output\n",
    "\n",
    "getSetDiff(seed_list,all_songs)    "
   ]
  },
  {
   "cell_type": "code",
   "execution_count": 13,
   "metadata": {
    "colab": {},
    "colab_type": "code",
    "id": "3a8C1zaUZufw"
   },
   "outputs": [],
   "source": [
    "filetrain='/home/seherkhan/IdeaProjects/imf552_proj/.idea/FINAL/clustering-13Nov/data/training_triplets_FINAL_min_5.csv'\n",
    "fileval='/home/seherkhan/IdeaProjects/imf552_proj/.idea/FINAL/clustering-13Nov/data/validation_triplets_seed_min_5.csv'\n",
    "fileval_check='/home/seherkhan/IdeaProjects/imf552_proj/.idea/FINAL/clustering-13Nov/data/validation_triplets_checking_min_5.csv'\n",
    "\n",
    "def get_all_predicted_songs(valid_df):\n",
    "    output=[]\n",
    "    for index, row in valid_df.iterrows():\n",
    "        #print row['userID'], row['cluster_number']\n",
    "        user_songs = get_songs_of_user(filetrain,row['userID']).append(get_songs_of_user(fileval,row['userID']))\n",
    "        #print user_songs\n",
    "        cluster_songs_for_user = cluster_songs[row['cluster_number']]\n",
    "        #print user_songs\n",
    "        cluster_songs_for_user=cluster_songs_for_user.drop(columns=['index'])\n",
    "        predicted_songs = getSetDiff(user_songs,  cluster_songs_for_user)\n",
    "        output.append(predicted_songs)\n",
    "    return output"
   ]
  },
  {
   "cell_type": "code",
   "execution_count": null,
   "metadata": {
    "colab": {},
    "colab_type": "code",
    "id": "j82NmZE0Zuf1"
   },
   "outputs": [],
   "source": [
    "import csv\n",
    "def set_intersection(valid_df, filetrain, fileeval):\n",
    "   output=[]\n",
    "   for index, row in valid_df.iterrows():\n",
    "       #print row['userID'], row['cluster_number']\n",
    "       user_songs = get_songs_of_user(filetrain,row['userID']).append(get_songs_of_user(fileval,row['userID']))\n",
    "       #print user_songs\n",
    "       cluster_songs_for_user = cluster_songs[row['cluster_number']]\n",
    "       #print user_songs\n",
    "       cluster_songs_for_user=cluster_songs_for_user.drop(columns=['index'])\n",
    "       predicted_songs = getSetDiff(user_songs,  cluster_songs_for_user)\n",
    "       output.append(predicted_songs)\n",
    "       #print(predicted_songs)\n",
    "   with open(fileval_check, 'r') as inp:\n",
    "       data=csv.reader(inp)\n",
    "       inp_list=list(data)\n",
    "   intersection = [] \n",
    "   count = 0\n",
    "   for entry in inp_list:\n",
    "       for record in output:\n",
    "           if entry[1]==record:\n",
    "               intersection.append(record)\n",
    "               count+=1\n",
    "   print(count)\n",
    "   print(\"Accuracy: \", count/len(inp_list))\n",
    "   \n",
    "intersection = set_intersection(df2_valid,filetrain, fileval)"
   ]
  }
 ],
 "metadata": {
  "colab": {
   "name": "Approach2Nov13.ipynb",
   "provenance": [],
   "version": "0.3.2"
  },
  "kernelspec": {
   "display_name": "Python 2",
   "language": "python",
   "name": "python2"
  },
  "language_info": {
   "codemirror_mode": {
    "name": "ipython",
    "version": 2
   },
   "file_extension": ".py",
   "mimetype": "text/x-python",
   "name": "python",
   "nbconvert_exporter": "python",
   "pygments_lexer": "ipython2",
   "version": "2.7.15rc1"
  }
 },
 "nbformat": 4,
 "nbformat_minor": 1
}
