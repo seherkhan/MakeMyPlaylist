{
 "cells": [
  {
   "cell_type": "code",
   "execution_count": 21,
   "metadata": {},
   "outputs": [],
   "source": [
    "from sklearn.cluster import MeanShift\n",
    "import numpy as np\n",
    "import pandas as pd \n",
    "from sklearn.preprocessing import StandardScaler\n",
    "import operator"
   ]
  },
  {
   "cell_type": "code",
   "execution_count": null,
   "metadata": {},
   "outputs": [],
   "source": [
    "data = pd.read_csv(\"training_features_triplets.csv\")\n",
    "data = data.drop(['userID'], axis=1) \n",
    "z_scaler = StandardScaler()\n",
    "z_scaler.fit(data)\n",
    "data = z_scaler.transform(data)"
   ]
  },
  {
   "cell_type": "code",
   "execution_count": 30,
   "metadata": {},
   "outputs": [],
   "source": [
    "def cluster_stats(labels):\n",
    "    print(\"No of different labels: \", len(set(labels)))\n",
    "    d = {}\n",
    "    for i in labels:\n",
    "        if i in d:\n",
    "            d[i] += 1\n",
    "        else:\n",
    "            d[i] = 1\n",
    "    print(\"Max number of keys in a cluster: \", max(list(d.values())))\n",
    "    print(\"Min number of keys in a cluster: \", min(list(d.values())))"
   ]
  },
  {
   "cell_type": "markdown",
   "metadata": {},
   "source": [
    "# Bandwidth = 2"
   ]
  },
  {
   "cell_type": "code",
   "execution_count": 16,
   "metadata": {},
   "outputs": [
    {
     "name": "stdout",
     "output_type": "stream",
     "text": [
      "[   0    0   58 ...    0    0 1667]\n"
     ]
    }
   ],
   "source": [
    "clustering_1 = MeanShift(bandwidth=2).fit(data)\n",
    "print(clustering_1.labels_)"
   ]
  },
  {
   "cell_type": "code",
   "execution_count": 31,
   "metadata": {},
   "outputs": [
    {
     "name": "stdout",
     "output_type": "stream",
     "text": [
      "[   0    0   58 ...    0    0 1667]\n",
      "No of different labels:  1668\n",
      "Max number of keys in a cluster:  4554\n",
      "Min number of keys in a cluster:  1\n"
     ]
    }
   ],
   "source": [
    "clsuter_labels_list_1 = clustering_1.labels_\n",
    "print(clsuter_labels_list_1)\n",
    "#print(\"No of different labels: \", len(set(clsuter_labels_list_1)))\n",
    "cluster_stats(clsuter_labels_list_1)"
   ]
  },
  {
   "cell_type": "markdown",
   "metadata": {},
   "source": [
    "# Bandwidth is calculated "
   ]
  },
  {
   "cell_type": "code",
   "execution_count": null,
   "metadata": {},
   "outputs": [],
   "source": []
  },
  {
   "cell_type": "code",
   "execution_count": 27,
   "metadata": {},
   "outputs": [
    {
     "name": "stdout",
     "output_type": "stream",
     "text": [
      "[ 0  0  2 ...  0  0 99]\n"
     ]
    }
   ],
   "source": [
    "clustering_2 = MeanShift().fit(data)\n",
    "print(clustering_2.labels_)"
   ]
  },
  {
   "cell_type": "code",
   "execution_count": 35,
   "metadata": {},
   "outputs": [
    {
     "name": "stdout",
     "output_type": "stream",
     "text": [
      "[ 0  0  2 ...  0  0 99]\n",
      "No of different labels:  657\n",
      "Max number of keys in a cluster:  6670\n",
      "Min number of keys in a cluster:  1\n"
     ]
    }
   ],
   "source": [
    "clsuter_labels_list_2 = clustering_2.labels_\n",
    "print(clsuter_labels_list_2)\n",
    "#print(\"No of different labels: \", len(set(clsuter_labels_list_1)))\n",
    "cluster_stats(clsuter_labels_list_2)"
   ]
  },
  {
   "cell_type": "markdown",
   "metadata": {},
   "source": [
    "# Without clustering all points"
   ]
  },
  {
   "cell_type": "code",
   "execution_count": 36,
   "metadata": {},
   "outputs": [
    {
     "name": "stdout",
     "output_type": "stream",
     "text": [
      "[ 0  0  2 ...  0  0 -1]\n"
     ]
    }
   ],
   "source": [
    "clustering_3 = MeanShift(cluster_all=False).fit(data)\n",
    "print(clustering_3.labels_)"
   ]
  },
  {
   "cell_type": "code",
   "execution_count": 37,
   "metadata": {},
   "outputs": [
    {
     "name": "stdout",
     "output_type": "stream",
     "text": [
      "[ 0  0  2 ...  0  0 -1]\n",
      "No of different labels:  658\n",
      "Max number of keys in a cluster:  6291\n",
      "Min number of keys in a cluster:  1\n"
     ]
    }
   ],
   "source": [
    "clsuter_labels_list_3 = clustering_3.labels_\n",
    "print(clsuter_labels_list_3)\n",
    "#print(\"No of different labels: \", len(set(clsuter_labels_list_1)))\n",
    "cluster_stats(clsuter_labels_list_3)"
   ]
  },
  {
   "cell_type": "markdown",
   "metadata": {},
   "source": [
    "## no change from clustering 2"
   ]
  },
  {
   "cell_type": "code",
   "execution_count": null,
   "metadata": {},
   "outputs": [],
   "source": []
  }
 ],
 "metadata": {
  "kernelspec": {
   "display_name": "Python 3",
   "language": "python",
   "name": "python3"
  },
  "language_info": {
   "codemirror_mode": {
    "name": "ipython",
    "version": 3
   },
   "file_extension": ".py",
   "mimetype": "text/x-python",
   "name": "python",
   "nbconvert_exporter": "python",
   "pygments_lexer": "ipython3",
   "version": "3.6.5"
  }
 },
 "nbformat": 4,
 "nbformat_minor": 2
}
