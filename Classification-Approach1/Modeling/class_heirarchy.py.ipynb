{
 "cells": [
  {
   "cell_type": "code",
   "execution_count": 2,
   "metadata": {},
   "outputs": [],
   "source": [
    "from sklearn.tree import DecisionTreeClassifier, export_graphviz\n",
    "import pandas as pd\n",
    "from sklearn.metrics import accuracy_score\n",
    "from sklearn.model_selection import train_test_split\n",
    "import numpy as np\n",
    "from sklearn.metrics import precision_recall_curve\n",
    "from sklearn.metrics import classification_report\n",
    "from sklearn.ensemble import RandomForestClassifier\n",
    "import itertools"
   ]
  },
  {
   "cell_type": "code",
   "execution_count": 26,
   "metadata": {},
   "outputs": [
    {
     "name": "stdout",
     "output_type": "stream",
     "text": [
      "[sad, classical, country, party, happy, ..., oldhits, rock, trance, workout, edm]\n",
      "Length: 14\n",
      "Categories (14, object): [sad, classical, country, party, ..., rock, trance, workout, edm]\n",
      "['classical', 'country', 'edm', 'happy', 'hiphop', 'jazz', 'newhits', 'oldhits', 'party', 'rock', 'romantic', 'sad', 'trance', 'workout']\n"
     ]
    }
   ],
   "source": [
    "import pandas as pd\n",
    "import numpy as np\n",
    "from sklearn.preprocessing import StandardScaler\n",
    "\n",
    "datafile='playlist_data_21oct_withoutdups.csv'\n",
    "df=pd.read_csv(datafile,sep='|')\n",
    "df_x_y = df.iloc[:,4:19]\n",
    "tmp_X = df.iloc[:,4:18]\n",
    "tmp_y = df.iloc[:,18:19]\n",
    "\n",
    "tmp_y['playlist'] = tmp_y['playlist'].astype('category')\n",
    "\n",
    "print(tmp_y['playlist'].unique())\n",
    "classes = (tmp_y['playlist'].unique().tolist())\n",
    "class_names = sorted(classes)\n",
    "print(class_names)\n",
    "tmp_y['playlist_codes']=tmp_y['playlist'].cat.codes\n",
    "scaler = StandardScaler()\n",
    "StandardScaler(copy=True, with_mean=True, with_std=True)\n",
    "X=scaler.fit_transform(tmp_X)\n",
    "y=np.ravel(tmp_y['playlist_codes'])"
   ]
  },
  {
   "cell_type": "code",
   "execution_count": 27,
   "metadata": {},
   "outputs": [],
   "source": [
    "import matplotlib.pyplot as plt\n",
    "from sklearn.metrics import confusion_matrix\n",
    "def plot_confusion_matrix(cm, classes,\n",
    "                          normalize=False,\n",
    "                          title='Confusion matrix',\n",
    "                          cmap=plt.cm.Blues):\n",
    "    \"\"\"\n",
    "    This function prints and plots the confusion matrix.\n",
    "    Normalization can be applied by setting `normalize=True`.\n",
    "    \"\"\"\n",
    "    if normalize:\n",
    "        cm = cm.astype('float') / cm.sum(axis=1)[:, np.newaxis]\n",
    "        print(\"Normalized confusion matrix\")\n",
    "    else:\n",
    "        print('Confusion matrix, without normalization')\n",
    "\n",
    "    print(cm)\n",
    "\n",
    "    plt.imshow(cm, interpolation='nearest', cmap=cmap)\n",
    "    plt.title(title)\n",
    "    plt.colorbar()\n",
    "    tick_marks = np.arange(len(classes))\n",
    "    plt.xticks(tick_marks, classes, rotation=45)\n",
    "    plt.yticks(tick_marks, classes)\n",
    "    \n",
    "    \n",
    "    fmt = '.2f' if normalize else 'd'\n",
    "    thresh = cm.max() / 2.\n",
    "    for i, j in itertools.product(range(cm.shape[0]), range(cm.shape[1])):\n",
    "        plt.text(j, i, format(cm[i, j], fmt),\n",
    "                 horizontalalignment=\"center\",\n",
    "                 color=\"white\" if cm[i, j] > thresh else \"black\")\n",
    "\n",
    "    plt.ylabel('True label')\n",
    "    plt.xlabel('Predicted label')\n",
    "    #plt.tight_layout()\n"
   ]
  },
  {
   "cell_type": "markdown",
   "metadata": {},
   "source": [
    "# Random Forest"
   ]
  },
  {
   "cell_type": "code",
   "execution_count": 28,
   "metadata": {},
   "outputs": [],
   "source": [
    "def random_forrest_model(x_train, y_train, x_val, y_val):\n",
    "    clf = RandomForestClassifier(bootstrap=True, class_weight=None, criterion='entropy',\n",
    "            max_depth=11, max_features='auto', max_leaf_nodes=None,\n",
    "            min_impurity_decrease=0.0, min_impurity_split=None,\n",
    "            min_samples_leaf=14, min_samples_split=3,\n",
    "            min_weight_fraction_leaf=0.0, n_estimators=200, n_jobs=1,\n",
    "            oob_score=False, random_state=None, verbose=0,\n",
    "            warm_start=False)\n",
    "    clf.fit(x_train, y_train)\n",
    "    print(\"Feature importance: \")\n",
    "    print(clf.feature_importances_)\n",
    "    y_pred = clf.predict(x_val)\n",
    "    print(\"final valdation accuracy: \", accuracy_score(y_val, y_pred))\n",
    "    print(classification_report(y_val, y_pred))\n",
    "    return accuracy_score(y_val, y_pred), y_pred"
   ]
  },
  {
   "cell_type": "code",
   "execution_count": 29,
   "metadata": {},
   "outputs": [
    {
     "name": "stdout",
     "output_type": "stream",
     "text": [
      "Feature importance: \n",
      "[0.06243222 0.11665078 0.13164449 0.02173264 0.05467958 0.08823082\n",
      " 0.1564542  0.00034816 0.08668973 0.01077739 0.10250009 0.08065918\n",
      " 0.06703681 0.02016392]\n",
      "final valdation accuracy:  0.4846325167037862\n",
      "             precision    recall  f1-score   support\n",
      "\n",
      "          0       0.68      0.49      0.57       298\n",
      "          1       0.44      0.65      0.52       324\n",
      "          2       0.46      0.77      0.57       341\n",
      "          3       0.27      0.02      0.03       188\n",
      "          4       0.46      0.80      0.59       376\n",
      "          5       0.70      0.86      0.77       401\n",
      "          6       0.29      0.04      0.08       204\n",
      "          7       0.31      0.34      0.32       287\n",
      "          8       0.24      0.11      0.15       357\n",
      "          9       0.30      0.12      0.17       232\n",
      "         10       0.40      0.55      0.46       570\n",
      "         11       0.37      0.28      0.32       437\n",
      "         12       0.91      0.97      0.94       306\n",
      "         13       0.25      0.01      0.02       169\n",
      "\n",
      "avg / total       0.45      0.48      0.44      4490\n",
      "\n",
      "Feature importance: \n",
      "[0.05468075 0.11657218 0.13282279 0.01767729 0.05858946 0.08317639\n",
      " 0.16249246 0.00017427 0.07709423 0.0104144  0.10555985 0.08973391\n",
      " 0.0745043  0.01650772]\n",
      "final valdation accuracy:  0.44587973273942094\n",
      "             precision    recall  f1-score   support\n",
      "\n",
      "          0       0.54      0.43      0.48       298\n",
      "          1       0.33      0.50      0.40       324\n",
      "          2       0.47      0.70      0.56       341\n",
      "          3       0.00      0.00      0.00       188\n",
      "          4       0.42      0.77      0.55       376\n",
      "          5       0.64      0.79      0.71       401\n",
      "          6       0.26      0.03      0.05       204\n",
      "          7       0.30      0.29      0.30       287\n",
      "          8       0.24      0.09      0.13       357\n",
      "          9       0.32      0.07      0.12       232\n",
      "         10       0.35      0.56      0.43       570\n",
      "         11       0.33      0.30      0.32       437\n",
      "         12       0.97      0.91      0.93       306\n",
      "         13       0.42      0.03      0.06       169\n",
      "\n",
      "avg / total       0.41      0.45      0.40      4490\n",
      "\n",
      "overlapping_matrix\n",
      "[[1, 0.03832225913621263, 0.013137254901960785, 0.016574585635359115, 0.006436781609195402, 0.06824027072758038, 0.002551020408163265, 0.0016666666666666668, 0.026666666666666665, 0.017905138339920947, 0.11055555555555555, 0.015958605664488017, 0.0, 0.010189393939393939], [0.03832225913621263, 1, 0.024863201094391246, 0.1132596685082873, 0.015713903845419482, 0.005860330202202472, 0.03826530612244898, 0.08469955221724686, 0.08717238833517903, 0.09454650506217746, 0.17455703211517165, 0.041720047192003416, 0.0, 0.056818181818181816], [0.013137254901960785, 0.024863201094391246, 1, 0.08839779005524862, 0.02920892494929006, 0.03027769483427889, 0.08241296518607444, 0.1033461210571185, 0.049019607843137254, 0.07707509881422925, 0.020261437908496733, 0.03366013071895425, 0.03773509403761505, 0.11647727272727272], [0.016574585635359115, 0.1132596685082873, 0.08839779005524862, 1, 0.06353591160220995, 0.013812154696132596, 0.0055248618784530384, 0.04143646408839779, 0.06077348066298342, 0.0055248618784530384, 0.06906077348066299, 0.022099447513812154, 0.0, 0.0], [0.006436781609195402, 0.015713903845419482, 0.02920892494929006, 0.06353591160220995, 1, 0.008285197502771458, 0.14828172648369692, 0.13393303348325838, 0.0806992337164751, 0.029644268774703556, 0.06502141086319585, 0.0763184584178499, 0.0, 0.14488636363636365], [0.06824027072758038, 0.005860330202202472, 0.03027769483427889, 0.013812154696132596, 0.008285197502771458, 1, 0.012755102040816327, 0.0036231884057971015, 0.030555555555555555, 0.03557312252964427, 0.05886085398626456, 0.032848390343164904, 0.0, 0.019886363636363636], [0.002551020408163265, 0.03826530612244898, 0.08241296518607444, 0.0055248618784530384, 0.14828172648369692, 0.012755102040816327, 1, 0.04846938775510204, 0.014143990929705216, 0.001976284584980237, 0.0807156195811658, 0.07177315370592682, 0.002551020408163265, 0.0], [0.0016666666666666668, 0.08469955221724686, 0.1033461210571185, 0.04143646408839779, 0.13393303348325838, 0.0036231884057971015, 0.04846938775510204, 1, 0.08659420289855072, 0.050889328063241104, 0.03189826655299801, 0.05619494174481386, 0.0018115942028985507, 0.04726613965744401], [0.026666666666666665, 0.08717238833517903, 0.049019607843137254, 0.06077348066298342, 0.0806992337164751, 0.030555555555555555, 0.014143990929705216, 0.08659420289855072, 1, 0.022968818620992534, 0.10147058823529412, 0.04384531590413943, 0.001388888888888889, 0.04400252525252525], [0.017905138339920947, 0.09454650506217746, 0.07707509881422925, 0.0055248618784530384, 0.029644268774703556, 0.03557312252964427, 0.001976284584980237, 0.050889328063241104, 0.022968818620992534, 1, 0.09847193159213619, 0.0533596837944664, 0.001976284584980237, 0.03717885375494071], [0.11055555555555555, 0.17455703211517165, 0.020261437908496733, 0.06906077348066299, 0.06502141086319585, 0.05886085398626456, 0.0807156195811658, 0.03189826655299801, 0.10147058823529412, 0.09847193159213619, 1, 0.2696078431372549, 0.0, 0.015021538918597742], [0.015958605664488017, 0.041720047192003416, 0.03366013071895425, 0.022099447513812154, 0.0763184584178499, 0.032848390343164904, 0.07177315370592682, 0.05619494174481386, 0.04384531590413943, 0.0533596837944664, 0.2696078431372549, 1, 0.0, 0.005681818181818182], [0.0, 0.0, 0.03773509403761505, 0.0, 0.0, 0.0, 0.002551020408163265, 0.0018115942028985507, 0.001388888888888889, 0.001976284584980237, 0.0, 0.0, 1, 0.0], [0.010189393939393939, 0.056818181818181816, 0.11647727272727272, 0.0, 0.14488636363636365, 0.019886363636363636, 0.0, 0.04726613965744401, 0.04400252525252525, 0.03717885375494071, 0.015021538918597742, 0.005681818181818182, 0.0, 1]]\n",
      "similarity_matrix\n",
      "[[0, 0.9616777408637873, 0.9868627450980392, 0.9834254143646409, 0.9935632183908046, 0.9317597292724196, 0.9974489795918368, 0.9983333333333333, 0.9733333333333334, 0.9820948616600791, 0.8894444444444445, 0.984041394335512, 1.0, 0.9898106060606061], [0.9616777408637873, 0, 0.9751367989056088, 0.8867403314917127, 0.9842860961545805, 0.9941396697977976, 0.9617346938775511, 0.9153004477827531, 0.912827611664821, 0.9054534949378226, 0.8254429678848283, 0.9582799528079966, 1.0, 0.9431818181818182], [0.9868627450980392, 0.9751367989056088, 0, 0.9116022099447514, 0.9707910750507099, 0.9697223051657211, 0.9175870348139256, 0.8966538789428815, 0.9509803921568627, 0.9229249011857708, 0.9797385620915032, 0.9663398692810458, 0.9622649059623849, 0.8835227272727273], [0.9834254143646409, 0.8867403314917127, 0.9116022099447514, 0, 0.93646408839779, 0.9861878453038674, 0.994475138121547, 0.9585635359116023, 0.9392265193370166, 0.994475138121547, 0.930939226519337, 0.9779005524861879, 1.0, 1.0], [0.9935632183908046, 0.9842860961545805, 0.9707910750507099, 0.93646408839779, 0, 0.9917148024972285, 0.8517182735163031, 0.8660669665167416, 0.9193007662835249, 0.9703557312252964, 0.9349785891368041, 0.9236815415821501, 1.0, 0.8551136363636364], [0.9317597292724196, 0.9941396697977976, 0.9697223051657211, 0.9861878453038674, 0.9917148024972285, 0, 0.9872448979591837, 0.9963768115942029, 0.9694444444444444, 0.9644268774703557, 0.9411391460137355, 0.9671516096568351, 1.0, 0.9801136363636364], [0.9974489795918368, 0.9617346938775511, 0.9175870348139256, 0.994475138121547, 0.8517182735163031, 0.9872448979591837, 0, 0.951530612244898, 0.9858560090702948, 0.9980237154150198, 0.9192843804188342, 0.9282268462940731, 0.9974489795918368, 1.0], [0.9983333333333333, 0.9153004477827531, 0.8966538789428815, 0.9585635359116023, 0.8660669665167416, 0.9963768115942029, 0.951530612244898, 0, 0.9134057971014493, 0.9491106719367589, 0.968101733447002, 0.9438050582551861, 0.9981884057971014, 0.952733860342556], [0.9733333333333334, 0.912827611664821, 0.9509803921568627, 0.9392265193370166, 0.9193007662835249, 0.9694444444444444, 0.9858560090702948, 0.9134057971014493, 0, 0.9770311813790075, 0.8985294117647059, 0.9561546840958606, 0.9986111111111111, 0.9559974747474748], [0.9820948616600791, 0.9054534949378226, 0.9229249011857708, 0.994475138121547, 0.9703557312252964, 0.9644268774703557, 0.9980237154150198, 0.9491106719367589, 0.9770311813790075, 0, 0.9015280684078638, 0.9466403162055336, 0.9980237154150198, 0.9628211462450593], [0.8894444444444445, 0.8254429678848283, 0.9797385620915032, 0.930939226519337, 0.9349785891368041, 0.9411391460137355, 0.9192843804188342, 0.968101733447002, 0.8985294117647059, 0.9015280684078638, 0, 0.7303921568627452, 1.0, 0.9849784610814023], [0.984041394335512, 0.9582799528079966, 0.9663398692810458, 0.9779005524861879, 0.9236815415821501, 0.9671516096568351, 0.9282268462940731, 0.9438050582551861, 0.9561546840958606, 0.9466403162055336, 0.7303921568627452, 0, 1.0, 0.9943181818181818], [1.0, 1.0, 0.9622649059623849, 1.0, 1.0, 1.0, 0.9974489795918368, 0.9981884057971014, 0.9986111111111111, 0.9980237154150198, 1.0, 1.0, 0, 1.0], [0.9898106060606061, 0.9431818181818182, 0.8835227272727273, 1.0, 0.8551136363636364, 0.9801136363636364, 1.0, 0.952733860342556, 0.9559974747474748, 0.9628211462450593, 0.9849784610814023, 0.9943181818181818, 1.0, 0]]\n",
      "['classical', 'country', 'edm', 'happy', 'hiphop', 'jazz', 'newhits', 'oldhits', 'party', 'rock', 'romantic', 'sad', 'trance', 'workout']\n",
      "Confusion matrix, without normalization\n",
      "[[164  21   7   0   3  28   0   1   6   6  58   5   0   1]\n",
      " [  2 167   7   0   6   2   0  15   9   1  80  12   0   0]\n",
      " [  1   9 237   0  14  18   4  21   5   0  11  14   6   0]\n",
      " [  6  41  32   0  23   5   2  15  22   2  25   8   0   0]\n",
      " [  1   4   6   0 289   4   2  10   3   0  10  19   0   0]\n",
      " [ 17   2   3   0   2 334   0   0   0   0  29   7   0   0]\n",
      " [  1  15  30   0  57   5   6  19   5   0  31  26   1   0]\n",
      " [  0  33  40   0  66   2   0  83  11   3  14  22   1   1]\n",
      " [ 12  52  30   0  55  22   1  48  34   8  66  30   1   1]\n",
      " [  4  47  39   0  15  18   1  23   6  20  49  27   1   3]\n",
      " [ 17  51   5   0  62  27   2   8  12   2 343  82   0   1]\n",
      " [  7  20  12   0  45  22   5  15   2   0 186 145   0   0]\n",
      " [  0   0  17   0   0   0   0   0   0   0   0   0 277   0]\n",
      " [  3  20  41   0  51   7   0  16  15  11   5   2   0   5]]\n"
     ]
    },
    {
     "name": "stderr",
     "output_type": "stream",
     "text": [
      "/anaconda3/lib/python3.6/site-packages/sklearn/metrics/classification.py:1135: UndefinedMetricWarning: Precision and F-score are ill-defined and being set to 0.0 in labels with no predicted samples.\n",
      "  'precision', 'predicted', average, warn_for)\n"
     ]
    },
    {
     "name": "stdout",
     "output_type": "stream",
     "text": [
      "Normalized confusion matrix\n",
      "[[0.54666667 0.07       0.02333333 0.         0.01       0.09333333\n",
      "  0.         0.00333333 0.02       0.02       0.19333333 0.01666667\n",
      "  0.         0.00333333]\n",
      " [0.00664452 0.55481728 0.02325581 0.         0.01993355 0.00664452\n",
      "  0.         0.04983389 0.02990033 0.00332226 0.26578073 0.03986711\n",
      "  0.         0.        ]\n",
      " [0.00294118 0.02647059 0.69705882 0.         0.04117647 0.05294118\n",
      "  0.01176471 0.06176471 0.01470588 0.         0.03235294 0.04117647\n",
      "  0.01764706 0.        ]\n",
      " [0.03314917 0.22651934 0.17679558 0.         0.12707182 0.02762431\n",
      "  0.01104972 0.08287293 0.12154696 0.01104972 0.13812155 0.0441989\n",
      "  0.         0.        ]\n",
      " [0.00287356 0.01149425 0.01724138 0.         0.83045977 0.01149425\n",
      "  0.00574713 0.02873563 0.00862069 0.         0.02873563 0.0545977\n",
      "  0.         0.        ]\n",
      " [0.04314721 0.00507614 0.00761421 0.         0.00507614 0.84771574\n",
      "  0.         0.         0.         0.         0.07360406 0.0177665\n",
      "  0.         0.        ]\n",
      " [0.00510204 0.07653061 0.15306122 0.         0.29081633 0.0255102\n",
      "  0.03061224 0.09693878 0.0255102  0.         0.15816327 0.13265306\n",
      "  0.00510204 0.        ]\n",
      " [0.         0.11956522 0.14492754 0.         0.23913043 0.00724638\n",
      "  0.         0.30072464 0.03985507 0.01086957 0.05072464 0.07971014\n",
      "  0.00362319 0.00362319]\n",
      " [0.03333333 0.14444444 0.08333333 0.         0.15277778 0.06111111\n",
      "  0.00277778 0.13333333 0.09444444 0.02222222 0.18333333 0.08333333\n",
      "  0.00277778 0.00277778]\n",
      " [0.01581028 0.18577075 0.1541502  0.         0.05928854 0.07114625\n",
      "  0.00395257 0.09090909 0.02371542 0.07905138 0.19367589 0.10671937\n",
      "  0.00395257 0.01185771]\n",
      " [0.02777778 0.08333333 0.00816993 0.         0.10130719 0.04411765\n",
      "  0.00326797 0.0130719  0.01960784 0.00326797 0.56045752 0.13398693\n",
      "  0.         0.00163399]\n",
      " [0.01525054 0.04357298 0.02614379 0.         0.09803922 0.04793028\n",
      "  0.01089325 0.03267974 0.0043573  0.         0.40522876 0.31590414\n",
      "  0.         0.        ]\n",
      " [0.         0.         0.05782313 0.         0.         0.\n",
      "  0.         0.         0.         0.         0.         0.\n",
      "  0.94217687 0.        ]\n",
      " [0.01704545 0.11363636 0.23295455 0.         0.28977273 0.03977273\n",
      "  0.         0.09090909 0.08522727 0.0625     0.02840909 0.01136364\n",
      "  0.         0.02840909]]\n"
     ]
    },
    {
     "data": {
      "image/png": "[encoded data removed]",
      "text/plain": [
       "<Figure size 1440x720 with 2 Axes>"
      ]
     },
     "metadata": {},
     "output_type": "display_data"
    },
    {
     "data": {
      "image/png": "[encoded data removed]",
      "text/plain": [
       "<Figure size 1440x720 with 2 Axes>"
      ]
     },
     "metadata": {},
     "output_type": "display_data"
    },
    {
     "name": "stdout",
     "output_type": "stream",
     "text": [
      "Total Accuracy:  0.4652561247216036\n"
     ]
    }
   ],
   "source": [
    "# In[ ]:\n",
    "\n",
    "from sklearn.model_selection import KFold\n",
    "accuracy=[]\n",
    "\n",
    "for n in range(1):\n",
    "    kf = KFold(n_splits=2,shuffle=True)\n",
    "    kf.get_n_splits(X)\n",
    "    \n",
    "    for train_index,test_index in kf.split(X):\n",
    "        X_1,X_2=X[train_index],X[test_index]\n",
    "        y_1,y_2=y[train_index],y[test_index]\n",
    "        \n",
    "    X_train = X_1\n",
    "    X_test = X_2\n",
    "    y_train = y_1\n",
    "    y_train = y_2\n",
    "    \n",
    "    # model here\n",
    "    # accuracy.append(accuracy_m1)\n",
    "    # model here\n",
    "    # accuracy.append(accuracy_m1)\n",
    "    values = random_forrest_model(X_train, y_train, X_test, y_train)\n",
    "    accuracy_value = values[0]\n",
    "    y_pred = values[1]\n",
    "    accuracy.append(accuracy_value)\n",
    "    \n",
    "    X_train = X_2\n",
    "    X_test = X_1\n",
    "    y_train = y_2\n",
    "    y_test = y_1\n",
    "    \n",
    "    # model here\n",
    "    # accuracy.append(accuracy_m2)\n",
    "    # accuracy.append(accuracy_m2)\n",
    "    values = random_forrest_model(X_train, y_train, X_test, y_train)\n",
    "    accuracy_value = values[0]\n",
    "    y_pred = values[1]\n",
    "    accuracy.append(accuracy_value)\n",
    "    if(n == 0):\n",
    "        # Compute confusion matrix\n",
    "        cnf_matrix = confusion_matrix(y_test, y_pred)\n",
    "        normal_cm = cnf_matrix.astype('float') / cnf_matrix.sum(axis=1)[:, np.newaxis]\n",
    "        print(\"overlapping_matrix\")\n",
    "        overlapping_matrix = [] \n",
    "        for i in range(len(normal_cm)):\n",
    "            row = []\n",
    "            for j in range(len(normal_cm[i])):\n",
    "                if(i == j):\n",
    "                    row.append(1)\n",
    "                else:\n",
    "                    val = (normal_cm[i][j] + normal_cm[j][i])/2\n",
    "                    row.append(val)\n",
    "            overlapping_matrix.append(row)\n",
    "        print(overlapping_matrix)\n",
    "        print(\"similarity_matrix\")\n",
    "        similarity_matrix = []\n",
    "        for i in range(len(overlapping_matrix)):\n",
    "            row = []\n",
    "            for j in range(len(overlapping_matrix[i])):\n",
    "                row.append(1- overlapping_matrix[i][j])\n",
    "            similarity_matrix.append(row)\n",
    "        print(similarity_matrix)\n",
    "        # Plot non-normalized confusion matrix\n",
    "        plt.figure(figsize=(20,10))\n",
    "        print(class_names)\n",
    "        plot_confusion_matrix(cnf_matrix, classes=class_names,\n",
    "                              title='Confusion matrix, without normalization')\n",
    "\n",
    "        # Plot normalized confusion matrix\n",
    "        plt.figure(figsize=(20,10))\n",
    "        plot_confusion_matrix(cnf_matrix, classes=class_names, normalize=True,\n",
    "                              title='Normalized confusion matrix')\n",
    "\n",
    "        plt.show()\n",
    "# calculate average accuracy\n",
    "print(\"Total Accuracy: \", sum(accuracy)/len(accuracy))"
   ]
  },
  {
   "cell_type": "code",
   "execution_count": null,
   "metadata": {},
   "outputs": [],
   "source": [
    "from sklearn.cluster import AgglomerativeClustering\n",
    "clustering = AgglomerativeClustering().fit(similarity_matrix)\n",
    "print(clustering) "
   ]
  },
  {
   "cell_type": "code",
   "execution_count": 30,
   "metadata": {},
   "outputs": [
    {
     "name": "stderr",
     "output_type": "stream",
     "text": [
      "/anaconda3/lib/python3.6/site-packages/ipykernel_launcher.py:4: ClusterWarning: scipy.cluster: The symmetric non-negative hollow observation matrix looks suspiciously like an uncondensed distance matrix\n",
      "  after removing the cwd from sys.path.\n"
     ]
    },
    {
     "data": {
      "image/png": "[encoded data removed]",
      "text/plain": [
       "<Figure size 1440x720 with 1 Axes>"
      ]
     },
     "metadata": {},
     "output_type": "display_data"
    }
   ],
   "source": [
    "from scipy.cluster.hierarchy import dendrogram, linkage  \n",
    "from matplotlib import pyplot as plt\n",
    "X = similarity_matrix\n",
    "linked = linkage(X, 'single')\n",
    "\n",
    "labelList = ['classical', 'country', 'edm', 'happy', 'hiphop', 'jazz', 'newhits', 'oldhits', 'party', 'rock', 'romantic', 'sad', 'trance', 'workout']\n",
    "\n",
    "plt.figure(figsize=(20, 10))  \n",
    "dendrogram(linked,  \n",
    "            orientation='top',\n",
    "            labels=labelList,\n",
    "            distance_sort='descending',\n",
    "            show_leaf_counts=True)\n",
    "plt.show()  "
   ]
  },
  {
   "cell_type": "code",
   "execution_count": 31,
   "metadata": {},
   "outputs": [
    {
     "name": "stderr",
     "output_type": "stream",
     "text": [
      "/anaconda3/lib/python3.6/site-packages/ipykernel_launcher.py:4: ClusterWarning: scipy.cluster: The symmetric non-negative hollow observation matrix looks suspiciously like an uncondensed distance matrix\n",
      "  after removing the cwd from sys.path.\n"
     ]
    },
    {
     "data": {
      "image/png": "[encoded data removed]",
      "text/plain": [
       "<Figure size 1440x720 with 1 Axes>"
      ]
     },
     "metadata": {},
     "output_type": "display_data"
    }
   ],
   "source": [
    "from scipy.cluster.hierarchy import dendrogram, linkage  \n",
    "from matplotlib import pyplot as plt\n",
    "X = similarity_matrix\n",
    "linked = linkage(X, 'average')\n",
    "\n",
    "labelList = ['classical', 'country', 'edm', 'happy', 'hiphop', 'jazz', 'newhits', 'oldhits', 'party', 'rock', 'romantic', 'sad', 'trance', 'workout']\n",
    "\n",
    "plt.figure(figsize=(20, 10))  \n",
    "dendrogram(linked,  \n",
    "            orientation='top',\n",
    "            labels=labelList,\n",
    "            distance_sort='descending',\n",
    "            show_leaf_counts=True)\n",
    "plt.show()  "
   ]
  },
  {
   "cell_type": "markdown",
   "metadata": {},
   "source": [
    "# classifier for trance and C1"
   ]
  },
  {
   "cell_type": "markdown",
   "metadata": {},
   "source": [
    "dataset"
   ]
  },
  {
   "cell_type": "code",
   "execution_count": 41,
   "metadata": {},
   "outputs": [
    {
     "name": "stdout",
     "output_type": "stream",
     "text": [
      "[sad, classical, country, party, happy, ..., oldhits, rock, trance, workout, edm]\n",
      "Length: 14\n",
      "Categories (14, object): [sad, classical, country, party, ..., rock, trance, workout, edm]\n",
      "['classical', 'country', 'edm', 'happy', 'hiphop', 'jazz', 'newhits', 'oldhits', 'party', 'rock', 'romantic', 'sad', 'trance', 'workout']\n",
      "[0 0 0 ... 0 0 0]\n"
     ]
    }
   ],
   "source": [
    "datafile='playlist_data_21oct_withoutdups.csv'\n",
    "df=pd.read_csv(datafile,sep='|')\n",
    "df_x_y = df.iloc[:,4:19]\n",
    "tmp_X = df.iloc[:,4:18]\n",
    "tmp_y = df.iloc[:,18:19]\n",
    "\n",
    "tmp_y['playlist'] = tmp_y['playlist'].astype('category')\n",
    "\n",
    "print(tmp_y['playlist'].unique())\n",
    "classes = (tmp_y['playlist'].unique().tolist())\n",
    "class_names = sorted(classes)\n",
    "print(class_names)\n",
    "tmp_y['playlist_codes']=tmp_y['playlist'].cat.codes\n",
    "scaler = StandardScaler()\n",
    "StandardScaler(copy=True, with_mean=True, with_std=True)\n",
    "X=scaler.fit_transform(tmp_X)\n",
    "y=np.ravel(tmp_y['playlist_codes'])\n",
    "\n",
    "new_labels = []\n",
    "for i in y:\n",
    "    if i == 12:\n",
    "        new_labels.append(1)\n",
    "    else:\n",
    "        new_labels.append(0)\n",
    "y = np.asarray(new_labels)\n",
    "\n",
    "print(y)"
   ]
  },
  {
   "cell_type": "code",
   "execution_count": 44,
   "metadata": {},
   "outputs": [],
   "source": [
    "from sklearn import svm\n",
    "def SVM_model(x_train, y_train, x_val, y_val):\n",
    "    clf = svm.SVC(C=1)\n",
    "    clf.fit(x_train, y_train)\n",
    "    y_pred = clf.predict(x_val)\n",
    "    print(classification_report(y_val, y_pred))\n",
    "    return accuracy_score(y_val, y_pred)"
   ]
  },
  {
   "cell_type": "code",
   "execution_count": 46,
   "metadata": {},
   "outputs": [
    {
     "name": "stdout",
     "output_type": "stream",
     "text": [
      "             precision    recall  f1-score   support\n",
      "\n",
      "          0       0.99      1.00      1.00      4185\n",
      "          1       0.97      0.92      0.95       305\n",
      "\n",
      "avg / total       0.99      0.99      0.99      4490\n",
      "\n",
      "             precision    recall  f1-score   support\n",
      "\n",
      "          0       0.99      0.99      0.99      4185\n",
      "          1       0.87      0.86      0.87       305\n",
      "\n",
      "avg / total       0.98      0.98      0.98      4490\n",
      "\n",
      "             precision    recall  f1-score   support\n",
      "\n",
      "          0       1.00      1.00      1.00      4199\n",
      "          1       0.97      0.94      0.95       291\n",
      "\n",
      "avg / total       0.99      0.99      0.99      4490\n",
      "\n",
      "             precision    recall  f1-score   support\n",
      "\n",
      "          0       0.99      0.99      0.99      4199\n",
      "          1       0.86      0.92      0.89       291\n",
      "\n",
      "avg / total       0.99      0.99      0.99      4490\n",
      "\n",
      "             precision    recall  f1-score   support\n",
      "\n",
      "          0       1.00      1.00      1.00      4187\n",
      "          1       0.95      0.96      0.96       303\n",
      "\n",
      "avg / total       0.99      0.99      0.99      4490\n",
      "\n",
      "             precision    recall  f1-score   support\n",
      "\n",
      "          0       0.99      0.99      0.99      4187\n",
      "          1       0.89      0.85      0.87       303\n",
      "\n",
      "avg / total       0.98      0.98      0.98      4490\n",
      "\n",
      "             precision    recall  f1-score   support\n",
      "\n",
      "          0       1.00      1.00      1.00      4174\n",
      "          1       0.96      0.94      0.95       316\n",
      "\n",
      "avg / total       0.99      0.99      0.99      4490\n",
      "\n",
      "             precision    recall  f1-score   support\n",
      "\n",
      "          0       0.99      0.99      0.99      4174\n",
      "          1       0.92      0.85      0.89       316\n",
      "\n",
      "avg / total       0.98      0.98      0.98      4490\n",
      "\n",
      "             precision    recall  f1-score   support\n",
      "\n",
      "          0       1.00      1.00      1.00      4175\n",
      "          1       0.96      0.95      0.96       315\n",
      "\n",
      "avg / total       0.99      0.99      0.99      4490\n",
      "\n",
      "             precision    recall  f1-score   support\n",
      "\n",
      "          0       0.98      0.99      0.98      4175\n",
      "          1       0.81      0.73      0.77       315\n",
      "\n",
      "avg / total       0.97      0.97      0.97      4490\n",
      "\n",
      "Total Accuracy:  0.987238307349666\n"
     ]
    }
   ],
   "source": [
    "# In[ ]:\n",
    "\n",
    "from sklearn.model_selection import KFold\n",
    "accuracy=[]\n",
    "\n",
    "for n in range(5):\n",
    "    kf = KFold(n_splits=2,shuffle=True)\n",
    "    kf.get_n_splits(X)\n",
    "    \n",
    "    for train_index,test_index in kf.split(X):\n",
    "        X_1,X_2=X[train_index],X[test_index]\n",
    "        y_1,y_2=y[train_index],y[test_index]\n",
    "        \n",
    "    X_train = X_1\n",
    "    X_test = X_2\n",
    "    y_train = y_1\n",
    "    y_train = y_2\n",
    "    \n",
    "    # model here\n",
    "    # accuracy.append(accuracy_m1)\n",
    "    accuracy.append(SVM_model(X_train, y_train, X_test, y_train))\n",
    "    X_train = X_2\n",
    "    X_test = X_1\n",
    "    y_train = y_2\n",
    "    y_test = y_1\n",
    "    \n",
    "    # model here\n",
    "    # accuracy.append(accuracy_m2)\n",
    "    accuracy.append(SVM_model(X_train, y_train, X_test, y_train))\n",
    "# calculate average accuracy\n",
    "print(\"Total Accuracy: \", sum(accuracy)/len(accuracy))"
   ]
  },
  {
   "cell_type": "markdown",
   "metadata": {},
   "source": [
    "# C2"
   ]
  },
  {
   "cell_type": "markdown",
   "metadata": {},
   "source": [
    "1. Remove all trance songs\n",
    "2. Give all Jazz and classical songs a label = 1\n",
    "3. Give all other songs label = 0"
   ]
  },
  {
   "cell_type": "code",
   "execution_count": 49,
   "metadata": {},
   "outputs": [
    {
     "name": "stdout",
     "output_type": "stream",
     "text": [
      "[sad, classical, country, party, happy, ..., newhits, oldhits, rock, workout, edm]\n",
      "Length: 13\n",
      "Categories (13, object): [sad, classical, country, party, ..., oldhits, rock, workout, edm]\n",
      "['classical', 'country', 'edm', 'happy', 'hiphop', 'jazz', 'newhits', 'oldhits', 'party', 'rock', 'romantic', 'sad', 'workout']\n",
      "[0 0 0 ... 0 0 0]\n"
     ]
    }
   ],
   "source": [
    "datafile='playlist_data_21oct_withoutdups.csv'\n",
    "df=pd.read_csv(datafile,sep='|')\n",
    "df_x_y = df.iloc[:,4:19]\n",
    "df = df[df.playlist != 'trance']\n",
    "tmp_X = df.iloc[:,4:18]\n",
    "tmp_y = df.iloc[:,18:19]\n",
    "\n",
    "tmp_y['playlist'] = tmp_y['playlist'].astype('category')\n",
    "\n",
    "print(tmp_y['playlist'].unique())\n",
    "classes = (tmp_y['playlist'].unique().tolist())\n",
    "class_names = sorted(classes)\n",
    "print(class_names)\n",
    "tmp_y['playlist_codes']=tmp_y['playlist'].cat.codes\n",
    "scaler = StandardScaler()\n",
    "StandardScaler(copy=True, with_mean=True, with_std=True)\n",
    "X=scaler.fit_transform(tmp_X)\n",
    "y=np.ravel(tmp_y['playlist_codes'])\n",
    "new_labels = []\n",
    "#jazz and classical get label = 1\n",
    "for i in y:\n",
    "    if i == 0 or i == 5:\n",
    "        new_labels.append(1)\n",
    "    else:\n",
    "        new_labels.append(0)\n",
    "y = np.asarray(new_labels)\n",
    "print(y)"
   ]
  },
  {
   "cell_type": "code",
   "execution_count": 50,
   "metadata": {},
   "outputs": [],
   "source": [
    "from sklearn import svm\n",
    "def SVM_model(x_train, y_train, x_val, y_val):\n",
    "    clf = svm.SVC(C=1)\n",
    "    clf.fit(x_train, y_train)\n",
    "    y_pred = clf.predict(x_val)\n",
    "    print(classification_report(y_val, y_pred))\n",
    "    return accuracy_score(y_val, y_pred)"
   ]
  },
  {
   "cell_type": "code",
   "execution_count": 51,
   "metadata": {},
   "outputs": [
    {
     "name": "stdout",
     "output_type": "stream",
     "text": [
      "             precision    recall  f1-score   support\n",
      "\n",
      "          0       0.92      0.99      0.96      3510\n",
      "          1       0.93      0.57      0.70       680\n",
      "\n",
      "avg / total       0.92      0.92      0.91      4190\n",
      "\n",
      "             precision    recall  f1-score   support\n",
      "\n",
      "          0       0.93      0.97      0.95      3510\n",
      "          1       0.83      0.63      0.72       680\n",
      "\n",
      "avg / total       0.91      0.92      0.91      4190\n",
      "\n",
      "             precision    recall  f1-score   support\n",
      "\n",
      "          0       0.92      0.99      0.95      3490\n",
      "          1       0.91      0.58      0.71       700\n",
      "\n",
      "avg / total       0.92      0.92      0.91      4190\n",
      "\n",
      "             precision    recall  f1-score   support\n",
      "\n",
      "          0       0.91      0.97      0.94      3490\n",
      "          1       0.81      0.54      0.65       700\n",
      "\n",
      "avg / total       0.90      0.90      0.89      4190\n",
      "\n",
      "             precision    recall  f1-score   support\n",
      "\n",
      "          0       0.93      0.99      0.96      3515\n",
      "          1       0.94      0.60      0.73       675\n",
      "\n",
      "avg / total       0.93      0.93      0.92      4190\n",
      "\n",
      "             precision    recall  f1-score   support\n",
      "\n",
      "          0       0.93      0.97      0.95      3515\n",
      "          1       0.79      0.63      0.70       675\n",
      "\n",
      "avg / total       0.91      0.91      0.91      4190\n",
      "\n",
      "             precision    recall  f1-score   support\n",
      "\n",
      "          0       0.93      0.98      0.96      3483\n",
      "          1       0.89      0.62      0.73       707\n",
      "\n",
      "avg / total       0.92      0.92      0.92      4190\n",
      "\n",
      "             precision    recall  f1-score   support\n",
      "\n",
      "          0       0.92      0.99      0.95      3483\n",
      "          1       0.89      0.60      0.72       707\n",
      "\n",
      "avg / total       0.92      0.92      0.91      4190\n",
      "\n",
      "             precision    recall  f1-score   support\n",
      "\n",
      "          0       0.92      0.98      0.95      3481\n",
      "          1       0.88      0.59      0.71       709\n",
      "\n",
      "avg / total       0.91      0.92      0.91      4190\n",
      "\n",
      "             precision    recall  f1-score   support\n",
      "\n",
      "          0       0.92      0.98      0.95      3481\n",
      "          1       0.83      0.58      0.68       709\n",
      "\n",
      "avg / total       0.90      0.91      0.90      4190\n",
      "\n",
      "Total Accuracy:  0.9175656324582337\n"
     ]
    }
   ],
   "source": [
    "from sklearn.model_selection import KFold\n",
    "accuracy=[]\n",
    "\n",
    "for n in range(5):\n",
    "    kf = KFold(n_splits=2,shuffle=True)\n",
    "    kf.get_n_splits(X)\n",
    "    \n",
    "    for train_index,test_index in kf.split(X):\n",
    "        X_1,X_2=X[train_index],X[test_index]\n",
    "        y_1,y_2=y[train_index],y[test_index]\n",
    "        \n",
    "    X_train = X_1\n",
    "    X_test = X_2\n",
    "    y_train = y_1\n",
    "    y_train = y_2\n",
    "    \n",
    "    # model here\n",
    "    # accuracy.append(accuracy_m1)\n",
    "    accuracy.append(SVM_model(X_train, y_train, X_test, y_train))\n",
    "    X_train = X_2\n",
    "    X_test = X_1\n",
    "    y_train = y_2\n",
    "    y_test = y_1\n",
    "    \n",
    "    # model here\n",
    "    # accuracy.append(accuracy_m2)\n",
    "    accuracy.append(SVM_model(X_train, y_train, X_test, y_train))\n",
    "# calculate average accuracy\n",
    "print(\"Total Accuracy: \", sum(accuracy)/len(accuracy))"
   ]
  },
  {
   "cell_type": "code",
   "execution_count": 53,
   "metadata": {},
   "outputs": [],
   "source": [
    "def random_forrest_C2(x_train, y_train, x_val, y_val):\n",
    "    clf = RandomForestClassifier(bootstrap=True, class_weight=None, criterion='entropy',\n",
    "            max_depth=11, max_features='auto', max_leaf_nodes=None,\n",
    "            min_impurity_decrease=0.0, min_impurity_split=None,\n",
    "            min_samples_leaf=14, min_samples_split=3,\n",
    "            min_weight_fraction_leaf=0.0, n_estimators=200, n_jobs=1,\n",
    "            oob_score=False, random_state=None, verbose=0,\n",
    "            warm_start=False)\n",
    "    clf.fit(x_train, y_train)\n",
    "    #print(\"Feature importance: \")\n",
    "    #print(clf.feature_importances_)\n",
    "    y_pred = clf.predict(x_val)\n",
    "    #print(\"final valdation accuracy: \", accuracy_score(y_val, y_pred))\n",
    "    print(classification_report(y_val, y_pred))\n",
    "    return accuracy_score(y_val, y_pred)"
   ]
  },
  {
   "cell_type": "code",
   "execution_count": 54,
   "metadata": {},
   "outputs": [
    {
     "name": "stdout",
     "output_type": "stream",
     "text": [
      "             precision    recall  f1-score   support\n",
      "\n",
      "          0       0.92      0.99      0.95      3489\n",
      "          1       0.93      0.54      0.69       701\n",
      "\n",
      "avg / total       0.92      0.92      0.91      4190\n",
      "\n",
      "             precision    recall  f1-score   support\n",
      "\n",
      "          0       0.92      0.96      0.94      3489\n",
      "          1       0.76      0.57      0.65       701\n",
      "\n",
      "avg / total       0.89      0.90      0.89      4190\n",
      "\n",
      "             precision    recall  f1-score   support\n",
      "\n",
      "          0       0.94      0.99      0.96      3451\n",
      "          1       0.91      0.69      0.78       739\n",
      "\n",
      "avg / total       0.93      0.93      0.93      4190\n",
      "\n",
      "             precision    recall  f1-score   support\n",
      "\n",
      "          0       0.91      0.98      0.95      3451\n",
      "          1       0.86      0.57      0.69       739\n",
      "\n",
      "avg / total       0.90      0.91      0.90      4190\n",
      "\n",
      "             precision    recall  f1-score   support\n",
      "\n",
      "          0       0.92      0.99      0.95      3495\n",
      "          1       0.92      0.57      0.71       695\n",
      "\n",
      "avg / total       0.92      0.92      0.91      4190\n",
      "\n",
      "             precision    recall  f1-score   support\n",
      "\n",
      "          0       0.92      0.97      0.94      3495\n",
      "          1       0.78      0.59      0.67       695\n",
      "\n",
      "avg / total       0.90      0.90      0.90      4190\n",
      "\n",
      "             precision    recall  f1-score   support\n",
      "\n",
      "          0       0.93      0.99      0.96      3480\n",
      "          1       0.93      0.65      0.76       710\n",
      "\n",
      "avg / total       0.93      0.93      0.93      4190\n",
      "\n",
      "             precision    recall  f1-score   support\n",
      "\n",
      "          0       0.92      0.97      0.95      3480\n",
      "          1       0.82      0.59      0.69       710\n",
      "\n",
      "avg / total       0.90      0.91      0.90      4190\n",
      "\n",
      "             precision    recall  f1-score   support\n",
      "\n",
      "          0       0.92      0.99      0.96      3520\n",
      "          1       0.94      0.57      0.71       670\n",
      "\n",
      "avg / total       0.93      0.93      0.92      4190\n",
      "\n",
      "             precision    recall  f1-score   support\n",
      "\n",
      "          0       0.93      0.96      0.95      3520\n",
      "          1       0.76      0.61      0.67       670\n",
      "\n",
      "avg / total       0.90      0.91      0.90      4190\n",
      "\n",
      "Total Accuracy:  0.9154415274463006\n"
     ]
    }
   ],
   "source": [
    "from sklearn.model_selection import KFold\n",
    "accuracy=[]\n",
    "\n",
    "for n in range(5):\n",
    "    kf = KFold(n_splits=2,shuffle=True)\n",
    "    kf.get_n_splits(X)\n",
    "    \n",
    "    for train_index,test_index in kf.split(X):\n",
    "        X_1,X_2=X[train_index],X[test_index]\n",
    "        y_1,y_2=y[train_index],y[test_index]\n",
    "        \n",
    "    X_train = X_1\n",
    "    X_test = X_2\n",
    "    y_train = y_1\n",
    "    y_train = y_2\n",
    "    \n",
    "    # model here\n",
    "    # accuracy.append(accuracy_m1)\n",
    "    accuracy.append(random_forrest_C2(X_train, y_train, X_test, y_train))\n",
    "    X_train = X_2\n",
    "    X_test = X_1\n",
    "    y_train = y_2\n",
    "    y_test = y_1\n",
    "    \n",
    "    # model here\n",
    "    # accuracy.append(accuracy_m2)\n",
    "    accuracy.append(random_forrest_C2(X_train, y_train, X_test, y_train))\n",
    "# calculate average accuracy\n",
    "print(\"Total Accuracy: \", sum(accuracy)/len(accuracy))"
   ]
  },
  {
   "cell_type": "markdown",
   "metadata": {},
   "source": [
    "# C3 - between Jazz and Classical "
   ]
  },
  {
   "cell_type": "markdown",
   "metadata": {},
   "source": [
    "1. Keep only Jazz and classical Dataframes\n",
    "2. Jazz has label = 0\n",
    "3. Classical has label = 1"
   ]
  },
  {
   "cell_type": "code",
   "execution_count": 181,
   "metadata": {},
   "outputs": [
    {
     "name": "stdout",
     "output_type": "stream",
     "text": [
      "[classical, jazz]\n",
      "Categories (2, object): [classical, jazz]\n",
      "['classical', 'jazz']\n",
      "1393\n",
      "1393\n",
      "[0 0 0 ... 1 1 1]\n"
     ]
    }
   ],
   "source": [
    "datafile='playlist_data_21oct_withoutdups.csv'\n",
    "df=pd.read_csv(datafile,sep='|')\n",
    "\n",
    "df = df[df['playlist'].isin(['classical', 'jazz']) ]\n",
    "\n",
    "tmp_X = df.iloc[:,4:18]\n",
    "tmp_y = df.iloc[:,18:19]\n",
    "\n",
    "tmp_y['playlist'] = tmp_y['playlist'].astype('category')\n",
    "\n",
    "print(tmp_y['playlist'].unique())\n",
    "classes = (tmp_y['playlist'].unique().tolist())\n",
    "class_names = sorted(classes)\n",
    "print(class_names)\n",
    "tmp_y['playlist_codes']=tmp_y['playlist'].cat.codes\n",
    "scaler = StandardScaler()\n",
    "StandardScaler(copy=True, with_mean=True, with_std=True)\n",
    "X=scaler.fit_transform(tmp_X)\n",
    "y=np.ravel(tmp_y['playlist_codes'])\n",
    "print(len(X))\n",
    "print(len(y))\n",
    "# #jazz and classical get label = 1\n",
    "# new_labels = []\n",
    "# for i in y:\n",
    "#     if i == 0 :\n",
    "#         new_labels.append(0)\n",
    "#     else:\n",
    "#         new_labels.append(1)\n",
    "# y = np.asarray(new_labels)\n",
    "# print(y)\n",
    "print(y)"
   ]
  },
  {
   "cell_type": "code",
   "execution_count": 182,
   "metadata": {},
   "outputs": [
    {
     "name": "stdout",
     "output_type": "stream",
     "text": [
      "[0.72401434 0.89605735 0.88530466 0.88129496 0.73741007]\n",
      "Accuracy: 0.82 (+/- 0.15)\n"
     ]
    }
   ],
   "source": [
    "from sklearn.model_selection import cross_val_score\n",
    "clf = svm.SVC(C=1)\n",
    "scores = cross_val_score(clf, X, y, cv=5)\n",
    "print(scores)\n",
    "print(\"Accuracy: %0.2f (+/- %0.2f)\" % (scores.mean(), scores.std() * 2))"
   ]
  },
  {
   "cell_type": "code",
   "execution_count": 186,
   "metadata": {},
   "outputs": [
    {
     "name": "stdout",
     "output_type": "stream",
     "text": [
      "[0.75268817 0.92831541 0.88530466 0.87410072 0.72302158]\n",
      "Accuracy: 0.83 (+/- 0.16)\n"
     ]
    }
   ],
   "source": [
    "from sklearn.model_selection import cross_val_score\n",
    "clf = RandomForestClassifier(bootstrap=True, class_weight=None, criterion='entropy',\n",
    "            max_depth=11, max_features='auto', max_leaf_nodes=None,\n",
    "            min_impurity_decrease=0.0, min_impurity_split=None,\n",
    "            min_samples_leaf=14, min_samples_split=3,\n",
    "            min_weight_fraction_leaf=0.0, n_estimators=500, n_jobs=1,\n",
    "            oob_score=False, random_state=None, verbose=0,\n",
    "            warm_start=False)\n",
    "scores = cross_val_score(clf, X, y, cv=5)\n",
    "print(scores)\n",
    "print(\"Accuracy: %0.2f (+/- %0.2f)\" % (scores.mean(), scores.std() * 2))"
   ]
  },
  {
   "cell_type": "markdown",
   "metadata": {},
   "source": [
    "# C4"
   ]
  },
  {
   "cell_type": "markdown",
   "metadata": {},
   "source": [
    "1. EDM, workout, oldhits, hiphop, newhits - class 1 -- 0\n",
    "2. country, happy, party, rock, romantic, sad - class 2 -- 1"
   ]
  },
  {
   "cell_type": "code",
   "execution_count": 202,
   "metadata": {},
   "outputs": [
    {
     "name": "stdout",
     "output_type": "stream",
     "text": [
      "[sad, country, party, happy, hiphop, ..., newhits, oldhits, rock, workout, edm]\n",
      "Length: 11\n",
      "Categories (11, object): [sad, country, party, happy, ..., oldhits, rock, workout, edm]\n",
      "['country', 'edm', 'happy', 'hiphop', 'newhits', 'oldhits', 'party', 'rock', 'romantic', 'sad', 'workout']\n",
      "6987\n",
      "6987\n",
      "[1 1 1 ... 0 0 0]\n",
      "[1 1 1 ... 0 0 0]\n"
     ]
    }
   ],
   "source": [
    "datafile='playlist_data_21oct_withoutdups.csv'\n",
    "df=pd.read_csv(datafile,sep='|')\n",
    "\n",
    "df = df[df['playlist'].isin(['edm', 'workout', 'oldhits', 'hiphop', 'newhits', 'country', 'happy', 'party', 'rock', 'romantic', 'sad']) ]\n",
    "\n",
    "tmp_X = df.iloc[:,4:18]\n",
    "tmp_y = df.iloc[:,18:19]\n",
    "\n",
    "tmp_y['playlist'] = tmp_y['playlist'].astype('category')\n",
    "\n",
    "print(tmp_y['playlist'].unique())\n",
    "classes = (tmp_y['playlist'].unique().tolist())\n",
    "class_names = sorted(classes)\n",
    "print(class_names)\n",
    "tmp_y['playlist_codes']=tmp_y['playlist'].cat.codes\n",
    "scaler = StandardScaler()\n",
    "StandardScaler(copy=True, with_mean=True, with_std=True)\n",
    "X=scaler.fit_transform(tmp_X)\n",
    "y=np.ravel(tmp_y['playlist_codes'])\n",
    "print(len(X))\n",
    "print(len(y))\n",
    "#jazz and classical get label = 1\n",
    "new_labels = []\n",
    "for i in y:\n",
    "    if i == 1 or i==10 or i==5 or i==4 or i==3:\n",
    "        new_labels.append(0)\n",
    "    else:\n",
    "        new_labels.append(1)\n",
    "y = np.asarray(new_labels)\n",
    "print(y)\n",
    "print(y)"
   ]
  },
  {
   "cell_type": "markdown",
   "metadata": {},
   "source": [
    "SVM"
   ]
  },
  {
   "cell_type": "code",
   "execution_count": 177,
   "metadata": {},
   "outputs": [
    {
     "name": "stdout",
     "output_type": "stream",
     "text": [
      "[0.78469242 0.69885551 0.6416309  0.74946314 0.8030086 ]\n",
      "Accuracy: 0.74 (+/- 0.12)\n"
     ]
    }
   ],
   "source": [
    "from sklearn.model_selection import cross_val_score\n",
    "clf = svm.SVC(C=1)\n",
    "scores = cross_val_score(clf, X, y, cv=5)\n",
    "print(scores)\n",
    "print(\"Accuracy: %0.2f (+/- %0.2f)\" % (scores.mean(), scores.std() * 2))"
   ]
  },
  {
   "cell_type": "markdown",
   "metadata": {},
   "source": [
    "Random forrest"
   ]
  },
  {
   "cell_type": "code",
   "execution_count": 180,
   "metadata": {},
   "outputs": [
    {
     "name": "stdout",
     "output_type": "stream",
     "text": [
      "[0.76680973 0.69384835 0.6416309  0.74731568 0.7987106 ]\n",
      "Accuracy: 0.73 (+/- 0.11)\n"
     ]
    }
   ],
   "source": [
    "from sklearn.model_selection import cross_val_score\n",
    "clf = RandomForestClassifier(bootstrap=True, class_weight=None, criterion='entropy',\n",
    "            max_depth=11, max_features='auto', max_leaf_nodes=None,\n",
    "            min_impurity_decrease=0.0, min_impurity_split=None,\n",
    "            min_samples_leaf=14, min_samples_split=3,\n",
    "            min_weight_fraction_leaf=0.0, n_estimators=400, n_jobs=1,\n",
    "            oob_score=False, random_state=None, verbose=0,\n",
    "            warm_start=False)\n",
    "scores = cross_val_score(clf, X, y, cv=5)\n",
    "print(scores)\n",
    "print(\"Accuracy: %0.2f (+/- %0.2f)\" % (scores.mean(), scores.std() * 2))"
   ]
  },
  {
   "cell_type": "markdown",
   "metadata": {},
   "source": [
    "# C5 "
   ]
  },
  {
   "cell_type": "markdown",
   "metadata": {},
   "source": [
    "1. edm, workout -- class 1 -- 0\n",
    "2. oldhits, newhits, hiphop -- class 2 -- 1"
   ]
  },
  {
   "cell_type": "code",
   "execution_count": 190,
   "metadata": {},
   "outputs": [
    {
     "name": "stdout",
     "output_type": "stream",
     "text": [
      "[hiphop, newhits, oldhits, workout, edm]\n",
      "Categories (5, object): [hiphop, newhits, oldhits, workout, edm]\n",
      "['edm', 'hiphop', 'newhits', 'oldhits', 'workout']\n",
      "2713\n",
      "2713\n",
      "[1 1 1 ... 0 0 0]\n",
      "[1 1 1 ... 0 0 0]\n"
     ]
    }
   ],
   "source": [
    "datafile='playlist_data_21oct_withoutdups.csv'\n",
    "df=pd.read_csv(datafile,sep='|')\n",
    "\n",
    "df = df[df['playlist'].isin(['edm', 'workout', 'oldhits', 'hiphop', 'newhits']) ]\n",
    "\n",
    "tmp_X = df.iloc[:,4:18]\n",
    "tmp_y = df.iloc[:,18:19]\n",
    "\n",
    "tmp_y['playlist'] = tmp_y['playlist'].astype('category')\n",
    "\n",
    "print(tmp_y['playlist'].unique())\n",
    "classes = (tmp_y['playlist'].unique().tolist())\n",
    "class_names = sorted(classes)\n",
    "print(class_names)\n",
    "tmp_y['playlist_codes']=tmp_y['playlist'].cat.codes\n",
    "scaler = StandardScaler()\n",
    "StandardScaler(copy=True, with_mean=True, with_std=True)\n",
    "X=scaler.fit_transform(tmp_X)\n",
    "y=np.ravel(tmp_y['playlist_codes'])\n",
    "print(len(X))\n",
    "print(len(y))\n",
    "#jazz and classical get label = 1\n",
    "new_labels = []\n",
    "for i in y:\n",
    "    if i == 0 or i== 4:\n",
    "        new_labels.append(0)\n",
    "    else:\n",
    "        new_labels.append(1)\n",
    "y = np.asarray(new_labels)\n",
    "print(y)\n",
    "print(y)"
   ]
  },
  {
   "cell_type": "code",
   "execution_count": 191,
   "metadata": {},
   "outputs": [
    {
     "name": "stdout",
     "output_type": "stream",
     "text": [
      "[0.71323529 0.75138122 0.80073801 0.75461255 0.65129151]\n",
      "Accuracy: 0.73 (+/- 0.10)\n"
     ]
    }
   ],
   "source": [
    "from sklearn.model_selection import cross_val_score\n",
    "clf = svm.SVC(C=1)\n",
    "scores = cross_val_score(clf, X, y, cv=5)\n",
    "print(scores)\n",
    "print(\"Accuracy: %0.2f (+/- %0.2f)\" % (scores.mean(), scores.std() * 2))"
   ]
  },
  {
   "cell_type": "code",
   "execution_count": 192,
   "metadata": {},
   "outputs": [
    {
     "name": "stdout",
     "output_type": "stream",
     "text": [
      "[0.72977941 0.80662983 0.85608856 0.78782288 0.70295203]\n",
      "Accuracy: 0.78 (+/- 0.11)\n"
     ]
    }
   ],
   "source": [
    "from sklearn.model_selection import cross_val_score\n",
    "clf = RandomForestClassifier(bootstrap=True, class_weight=None, criterion='entropy',\n",
    "            max_depth=11, max_features='auto', max_leaf_nodes=None,\n",
    "            min_impurity_decrease=0.0, min_impurity_split=None,\n",
    "            min_samples_leaf=14, min_samples_split=3,\n",
    "            min_weight_fraction_leaf=0.0, n_estimators=400, n_jobs=1,\n",
    "            oob_score=False, random_state=None, verbose=0,\n",
    "            warm_start=False)\n",
    "scores = cross_val_score(clf, X, y, cv=5)\n",
    "print(scores)\n",
    "print(\"Accuracy: %0.2f (+/- %0.2f)\" % (scores.mean(), scores.std() * 2))"
   ]
  },
  {
   "cell_type": "markdown",
   "metadata": {},
   "source": [
    "# C7"
   ]
  },
  {
   "cell_type": "markdown",
   "metadata": {},
   "source": [
    "1. EDM - class 1 - 0\n",
    "2. Workout - class 2 - 1"
   ]
  },
  {
   "cell_type": "code",
   "execution_count": 194,
   "metadata": {},
   "outputs": [
    {
     "name": "stdout",
     "output_type": "stream",
     "text": [
      "[workout, edm]\n",
      "Categories (2, object): [workout, edm]\n",
      "['edm', 'workout']\n",
      "1026\n",
      "1026\n",
      "[1 1 1 ... 0 0 0]\n"
     ]
    }
   ],
   "source": [
    "datafile='playlist_data_21oct_withoutdups.csv'\n",
    "df=pd.read_csv(datafile,sep='|')\n",
    "\n",
    "df = df[df['playlist'].isin(['edm', 'workout']) ]\n",
    "\n",
    "tmp_X = df.iloc[:,4:18]\n",
    "tmp_y = df.iloc[:,18:19]\n",
    "\n",
    "tmp_y['playlist'] = tmp_y['playlist'].astype('category')\n",
    "\n",
    "print(tmp_y['playlist'].unique())\n",
    "classes = (tmp_y['playlist'].unique().tolist())\n",
    "class_names = sorted(classes)\n",
    "print(class_names)\n",
    "tmp_y['playlist_codes']=tmp_y['playlist'].cat.codes\n",
    "scaler = StandardScaler()\n",
    "StandardScaler(copy=True, with_mean=True, with_std=True)\n",
    "X=scaler.fit_transform(tmp_X)\n",
    "y=np.ravel(tmp_y['playlist_codes'])\n",
    "print(len(X))\n",
    "print(len(y))\n",
    "\n",
    "print(y)"
   ]
  },
  {
   "cell_type": "code",
   "execution_count": 195,
   "metadata": {},
   "outputs": [
    {
     "name": "stdout",
     "output_type": "stream",
     "text": [
      "[0.7961165  0.82439024 0.7804878  0.75609756 0.66341463]\n",
      "Accuracy: 0.76 (+/- 0.11)\n"
     ]
    }
   ],
   "source": [
    "from sklearn.model_selection import cross_val_score\n",
    "clf = svm.SVC(C=1)\n",
    "scores = cross_val_score(clf, X, y, cv=5)\n",
    "print(scores)\n",
    "print(\"Accuracy: %0.2f (+/- %0.2f)\" % (scores.mean(), scores.std() * 2))"
   ]
  },
  {
   "cell_type": "code",
   "execution_count": 196,
   "metadata": {},
   "outputs": [
    {
     "name": "stdout",
     "output_type": "stream",
     "text": [
      "[0.82038835 0.85365854 0.67317073 0.67804878 0.69756098]\n",
      "Accuracy: 0.74 (+/- 0.15)\n"
     ]
    }
   ],
   "source": [
    "from sklearn.model_selection import cross_val_score\n",
    "clf = RandomForestClassifier(bootstrap=True, class_weight=None, criterion='entropy',\n",
    "            max_depth=11, max_features='auto', max_leaf_nodes=None,\n",
    "            min_impurity_decrease=0.0, min_impurity_split=None,\n",
    "            min_samples_leaf=14, min_samples_split=3,\n",
    "            min_weight_fraction_leaf=0.0, n_estimators=400, n_jobs=1,\n",
    "            oob_score=False, random_state=None, verbose=0,\n",
    "            warm_start=False)\n",
    "scores = cross_val_score(clf, X, y, cv=5)\n",
    "print(scores)\n",
    "print(\"Accuracy: %0.2f (+/- %0.2f)\" % (scores.mean(), scores.std() * 2))"
   ]
  },
  {
   "cell_type": "markdown",
   "metadata": {},
   "source": [
    "# C8"
   ]
  },
  {
   "cell_type": "markdown",
   "metadata": {},
   "source": [
    "1. oldhits - class 1 - 0\n",
    "2. Hiphop, newsongs - class 2 - 1"
   ]
  },
  {
   "cell_type": "code",
   "execution_count": 198,
   "metadata": {},
   "outputs": [
    {
     "name": "stdout",
     "output_type": "stream",
     "text": [
      "[hiphop, newhits, oldhits]\n",
      "Categories (3, object): [hiphop, newhits, oldhits]\n",
      "['hiphop', 'newhits', 'oldhits']\n",
      "1687\n",
      "1687\n",
      "[0 0 0 ... 1 1 1]\n"
     ]
    }
   ],
   "source": [
    "datafile='playlist_data_21oct_withoutdups.csv'\n",
    "df=pd.read_csv(datafile,sep='|')\n",
    "\n",
    "df = df[df['playlist'].isin(['hiphop', 'newhits', 'oldhits']) ]\n",
    "\n",
    "tmp_X = df.iloc[:,4:18]\n",
    "tmp_y = df.iloc[:,18:19]\n",
    "\n",
    "tmp_y['playlist'] = tmp_y['playlist'].astype('category')\n",
    "\n",
    "print(tmp_y['playlist'].unique())\n",
    "classes = (tmp_y['playlist'].unique().tolist())\n",
    "class_names = sorted(classes)\n",
    "print(class_names)\n",
    "tmp_y['playlist_codes']=tmp_y['playlist'].cat.codes\n",
    "scaler = StandardScaler()\n",
    "StandardScaler(copy=True, with_mean=True, with_std=True)\n",
    "X=scaler.fit_transform(tmp_X)\n",
    "y=np.ravel(tmp_y['playlist_codes'])\n",
    "print(len(X))\n",
    "print(len(y))\n",
    "new_labels = []\n",
    "for i in y:\n",
    "    if i == 0 or i== 4:\n",
    "        new_labels.append(0)\n",
    "    else:\n",
    "        new_labels.append(1)\n",
    "y = np.asarray(new_labels)\n",
    "print(y)\n"
   ]
  },
  {
   "cell_type": "code",
   "execution_count": 199,
   "metadata": {},
   "outputs": [
    {
     "name": "stdout",
     "output_type": "stream",
     "text": [
      "[0.74852071 0.69822485 0.78994083 0.87833828 0.81845238]\n",
      "Accuracy: 0.79 (+/- 0.12)\n"
     ]
    }
   ],
   "source": [
    "from sklearn.model_selection import cross_val_score\n",
    "clf = svm.SVC(C=1)\n",
    "scores = cross_val_score(clf, X, y, cv=5)\n",
    "print(scores)\n",
    "print(\"Accuracy: %0.2f (+/- %0.2f)\" % (scores.mean(), scores.std() * 2))"
   ]
  },
  {
   "cell_type": "code",
   "execution_count": 200,
   "metadata": {},
   "outputs": [
    {
     "name": "stdout",
     "output_type": "stream",
     "text": [
      "[0.76627219 0.70710059 0.82840237 0.87537092 0.81845238]\n",
      "Accuracy: 0.80 (+/- 0.12)\n"
     ]
    }
   ],
   "source": [
    "from sklearn.model_selection import cross_val_score\n",
    "clf = RandomForestClassifier(bootstrap=True, class_weight=None, criterion='entropy',\n",
    "            max_depth=11, max_features='auto', max_leaf_nodes=None,\n",
    "            min_impurity_decrease=0.0, min_impurity_split=None,\n",
    "            min_samples_leaf=14, min_samples_split=3,\n",
    "            min_weight_fraction_leaf=0.0, n_estimators=400, n_jobs=1,\n",
    "            oob_score=False, random_state=None, verbose=0,\n",
    "            warm_start=False)\n",
    "scores = cross_val_score(clf, X, y, cv=5)\n",
    "print(scores)\n",
    "print(\"Accuracy: %0.2f (+/- %0.2f)\" % (scores.mean(), scores.std() * 2))"
   ]
  },
  {
   "cell_type": "markdown",
   "metadata": {},
   "source": [
    "# C6"
   ]
  },
  {
   "cell_type": "markdown",
   "metadata": {},
   "source": [
    "1. party, country, happy - class 1 -- 0\n",
    "2. rock, romantic, sad - class 2 -- 1"
   ]
  },
  {
   "cell_type": "code",
   "execution_count": 204,
   "metadata": {},
   "outputs": [
    {
     "name": "stdout",
     "output_type": "stream",
     "text": [
      "[sad, country, party, happy, romantic, rock]\n",
      "Categories (6, object): [sad, country, party, happy, romantic, rock]\n",
      "['country', 'happy', 'party', 'rock', 'romantic', 'sad']\n",
      "4274\n",
      "4274\n",
      "[1 1 1 ... 1 1 1]\n",
      "[1 1 1 ... 1 1 1]\n"
     ]
    }
   ],
   "source": [
    "datafile='playlist_data_21oct_withoutdups.csv'\n",
    "df=pd.read_csv(datafile,sep='|')\n",
    "\n",
    "df = df[df['playlist'].isin(['country', 'happy', 'party', 'rock', 'romantic', 'sad']) ]\n",
    "\n",
    "tmp_X = df.iloc[:,4:18]\n",
    "tmp_y = df.iloc[:,18:19]\n",
    "\n",
    "tmp_y['playlist'] = tmp_y['playlist'].astype('category')\n",
    "\n",
    "print(tmp_y['playlist'].unique())\n",
    "classes = (tmp_y['playlist'].unique().tolist())\n",
    "class_names = sorted(classes)\n",
    "print(class_names)\n",
    "tmp_y['playlist_codes']=tmp_y['playlist'].cat.codes\n",
    "scaler = StandardScaler()\n",
    "StandardScaler(copy=True, with_mean=True, with_std=True)\n",
    "X=scaler.fit_transform(tmp_X)\n",
    "y=np.ravel(tmp_y['playlist_codes'])\n",
    "print(len(X))\n",
    "print(len(y))\n",
    "#jazz and classical get label = 1\n",
    "new_labels = []\n",
    "for i in y:\n",
    "    if i == 2 or i==0 or i==1:\n",
    "        new_labels.append(0)\n",
    "    else:\n",
    "        new_labels.append(1)\n",
    "y = np.asarray(new_labels)\n",
    "print(y)\n",
    "print(y)"
   ]
  },
  {
   "cell_type": "code",
   "execution_count": 205,
   "metadata": {},
   "outputs": [
    {
     "name": "stdout",
     "output_type": "stream",
     "text": [
      "[0.71378505 0.67602339 0.58245614 0.77985948 0.76814988]\n",
      "Accuracy: 0.70 (+/- 0.14)\n"
     ]
    }
   ],
   "source": [
    "from sklearn.model_selection import cross_val_score\n",
    "clf = svm.SVC(C=1)\n",
    "scores = cross_val_score(clf, X, y, cv=5)\n",
    "print(scores)\n",
    "print(\"Accuracy: %0.2f (+/- %0.2f)\" % (scores.mean(), scores.std() * 2))"
   ]
  },
  {
   "cell_type": "code",
   "execution_count": 206,
   "metadata": {},
   "outputs": [
    {
     "name": "stdout",
     "output_type": "stream",
     "text": [
      "[0.68691589 0.70526316 0.55204678 0.78805621 0.76932084]\n",
      "Accuracy: 0.70 (+/- 0.17)\n"
     ]
    }
   ],
   "source": [
    "from sklearn.model_selection import cross_val_score\n",
    "clf = RandomForestClassifier(bootstrap=True, class_weight=None, criterion='entropy',\n",
    "            max_depth=11, max_features='auto', max_leaf_nodes=None,\n",
    "            min_impurity_decrease=0.0, min_impurity_split=None,\n",
    "            min_samples_leaf=14, min_samples_split=3,\n",
    "            min_weight_fraction_leaf=0.0, n_estimators=400, n_jobs=1,\n",
    "            oob_score=False, random_state=None, verbose=0,\n",
    "            warm_start=False)\n",
    "scores = cross_val_score(clf, X, y, cv=5)\n",
    "print(scores)\n",
    "print(\"Accuracy: %0.2f (+/- %0.2f)\" % (scores.mean(), scores.std() * 2))"
   ]
  },
  {
   "cell_type": "markdown",
   "metadata": {},
   "source": [
    "# C10"
   ]
  },
  {
   "cell_type": "markdown",
   "metadata": {},
   "source": [
    "1. party - class 1 - 0\n",
    "2. country, happy - class 2 - 1"
   ]
  },
  {
   "cell_type": "code",
   "execution_count": 208,
   "metadata": {},
   "outputs": [
    {
     "name": "stdout",
     "output_type": "stream",
     "text": [
      "[country, party, happy]\n",
      "Categories (3, object): [country, party, happy]\n",
      "['country', 'happy', 'party']\n",
      "1711\n",
      "1711\n",
      "[1 1 1 ... 0 0 0]\n",
      "[1 1 1 ... 0 0 0]\n"
     ]
    }
   ],
   "source": [
    "datafile='playlist_data_21oct_withoutdups.csv'\n",
    "df=pd.read_csv(datafile,sep='|')\n",
    "\n",
    "df = df[df['playlist'].isin(['country', 'happy', 'party']) ]\n",
    "\n",
    "tmp_X = df.iloc[:,4:18]\n",
    "tmp_y = df.iloc[:,18:19]\n",
    "\n",
    "tmp_y['playlist'] = tmp_y['playlist'].astype('category')\n",
    "\n",
    "print(tmp_y['playlist'].unique())\n",
    "classes = (tmp_y['playlist'].unique().tolist())\n",
    "class_names = sorted(classes)\n",
    "print(class_names)\n",
    "tmp_y['playlist_codes']=tmp_y['playlist'].cat.codes\n",
    "scaler = StandardScaler()\n",
    "StandardScaler(copy=True, with_mean=True, with_std=True)\n",
    "X=scaler.fit_transform(tmp_X)\n",
    "y=np.ravel(tmp_y['playlist_codes'])\n",
    "print(len(X))\n",
    "print(len(y))\n",
    "#jazz and classical get label = 1\n",
    "new_labels = []\n",
    "for i in y:\n",
    "    if i == 2:\n",
    "        new_labels.append(0)\n",
    "    else:\n",
    "        new_labels.append(1)\n",
    "y = np.asarray(new_labels)\n",
    "print(y)\n",
    "print(y)"
   ]
  },
  {
   "cell_type": "code",
   "execution_count": 209,
   "metadata": {},
   "outputs": [
    {
     "name": "stdout",
     "output_type": "stream",
     "text": [
      "[0.69387755 0.72011662 0.77192982 0.53508772 0.53372434]\n",
      "Accuracy: 0.65 (+/- 0.20)\n"
     ]
    }
   ],
   "source": [
    "from sklearn.model_selection import cross_val_score\n",
    "clf = svm.SVC(C=1)\n",
    "scores = cross_val_score(clf, X, y, cv=5)\n",
    "print(scores)\n",
    "print(\"Accuracy: %0.2f (+/- %0.2f)\" % (scores.mean(), scores.std() * 2))"
   ]
  },
  {
   "cell_type": "code",
   "execution_count": 210,
   "metadata": {},
   "outputs": [
    {
     "name": "stdout",
     "output_type": "stream",
     "text": [
      "[0.71137026 0.73177843 0.80701754 0.52339181 0.55131965]\n",
      "Accuracy: 0.66 (+/- 0.22)\n"
     ]
    }
   ],
   "source": [
    "from sklearn.model_selection import cross_val_score\n",
    "clf = RandomForestClassifier(bootstrap=True, class_weight=None, criterion='entropy',\n",
    "            max_depth=11, max_features='auto', max_leaf_nodes=None,\n",
    "            min_impurity_decrease=0.0, min_impurity_split=None,\n",
    "            min_samples_leaf=14, min_samples_split=3,\n",
    "            min_weight_fraction_leaf=0.0, n_estimators=400, n_jobs=1,\n",
    "            oob_score=False, random_state=None, verbose=0,\n",
    "            warm_start=False)\n",
    "scores = cross_val_score(clf, X, y, cv=5)\n",
    "print(scores)\n",
    "print(\"Accuracy: %0.2f (+/- %0.2f)\" % (scores.mean(), scores.std() * 2))"
   ]
  },
  {
   "cell_type": "markdown",
   "metadata": {},
   "source": [
    "# C12"
   ]
  },
  {
   "cell_type": "markdown",
   "metadata": {},
   "source": [
    "1. Country - class 1 -- 0\n",
    "2. Happy - class 2 -- 1"
   ]
  },
  {
   "cell_type": "code",
   "execution_count": 211,
   "metadata": {},
   "outputs": [
    {
     "name": "stdout",
     "output_type": "stream",
     "text": [
      "[country, happy]\n",
      "Categories (2, object): [country, happy]\n",
      "['country', 'happy']\n",
      "994\n",
      "994\n",
      "[0 0 0 0 0 0 0 0 0 0 0 0 0 0 0 0 0 0 0 0 0 0 0 0 0 0 0 0 0 0 0 0 0 0 0 0 0\n",
      " 0 0 0 0 0 0 0 0 0 0 0 0 0 0 0 0 0 0 0 0 0 0 0 0 0 0 0 0 0 0 0 0 0 0 0 0 0\n",
      " 0 0 0 0 0 0 0 0 0 0 0 0 0 0 0 0 0 0 0 0 0 0 0 0 0 0 0 0 0 0 0 0 0 0 0 0 0\n",
      " 0 0 0 0 0 0 0 0 0 0 0 0 0 0 0 0 0 0 0 0 0 0 0 0 0 0 0 0 0 0 0 0 0 0 0 0 0\n",
      " 0 0 0 0 0 0 0 0 0 0 0 0 0 0 0 0 0 0 0 0 0 0 0 0 0 0 0 0 0 0 0 0 0 0 0 0 0\n",
      " 0 0 0 0 0 0 0 0 0 0 0 0 0 0 0 0 0 0 0 0 0 0 0 0 0 0 0 0 0 0 0 0 0 0 0 0 0\n",
      " 0 0 0 0 0 0 0 0 0 0 0 0 0 0 0 0 0 0 0 0 0 0 0 0 0 0 0 0 0 0 0 0 0 0 0 0 0\n",
      " 0 0 0 0 0 0 0 0 0 0 0 0 0 0 0 0 0 0 0 0 0 0 0 0 0 0 0 0 0 0 0 0 0 0 0 0 0\n",
      " 0 0 0 0 0 0 0 0 0 0 0 0 0 0 0 0 0 0 0 0 0 0 0 0 0 0 0 0 0 0 0 0 0 0 0 0 0\n",
      " 0 0 0 0 0 0 0 0 0 0 0 0 0 0 0 0 0 0 0 0 0 0 0 0 0 0 0 0 0 0 0 0 0 0 0 0 0\n",
      " 0 0 0 0 0 0 0 0 0 0 0 0 0 0 0 0 0 0 0 0 0 0 0 0 0 0 0 0 0 0 0 0 0 0 0 0 0\n",
      " 0 0 0 0 0 0 0 0 0 0 0 0 0 0 0 0 0 0 0 0 0 0 0 0 0 0 0 0 0 0 0 0 0 0 0 0 0\n",
      " 0 0 0 0 0 0 0 0 0 0 0 0 0 0 0 0 0 0 0 0 0 0 0 0 0 0 0 0 0 0 0 0 0 0 0 0 0\n",
      " 0 0 0 0 0 0 0 0 0 0 0 0 0 0 0 0 0 0 0 0 0 0 0 0 0 0 0 0 0 0 0 0 0 0 0 0 0\n",
      " 0 0 0 0 0 0 0 0 0 0 0 0 0 0 0 0 0 0 0 0 0 0 0 0 0 0 0 0 0 0 0 0 0 0 0 0 0\n",
      " 0 0 0 0 0 0 0 0 0 0 0 0 0 0 0 0 0 0 0 0 0 0 0 0 0 0 0 0 0 0 0 0 0 0 0 0 0\n",
      " 0 0 0 0 0 0 0 0 0 0 0 0 0 0 0 0 0 0 0 0 0 0 0 0 0 0 0 0 0 0 0 0 0 1 1 1 1\n",
      " 1 1 1 1 1 1 1 1 1 1 1 1 1 1 1 1 1 1 1 1 1 1 1 1 1 1 1 1 1 1 1 1 1 1 1 1 1\n",
      " 1 1 1 1 1 1 1 1 1 1 1 1 1 1 1 1 1 1 1 1 1 1 1 1 1 1 1 1 1 1 1 1 1 1 1 1 1\n",
      " 1 1 1 1 1 1 1 1 1 1 1 1 1 1 1 1 1 1 1 1 1 1 1 1 1 1 1 1 1 1 1 1 1 1 1 1 1\n",
      " 1 1 1 1 1 1 1 1 1 1 1 1 1 1 1 1 1 1 1 1 1 1 1 1 1 1 1 1 1 1 1 1 1 1 1 1 1\n",
      " 1 1 1 1 1 1 1 1 1 1 1 1 1 1 1 1 1 1 1 1 1 1 1 1 1 1 1 1 1 1 1 1 1 1 1 1 1\n",
      " 1 1 1 1 1 1 1 1 1 1 1 1 1 1 1 1 1 1 1 1 1 1 1 1 1 1 1 1 1 1 1 1 1 1 1 1 1\n",
      " 1 1 1 1 1 1 1 1 1 1 1 1 1 1 1 1 1 1 1 1 1 1 1 1 1 1 1 1 1 1 1 1 1 1 1 1 1\n",
      " 1 1 1 1 1 1 1 1 1 1 1 1 1 1 1 1 1 1 1 1 1 1 1 1 1 1 1 1 1 1 1 1 1 1 1 1 1\n",
      " 1 1 1 1 1 1 1 1 1 1 1 1 1 1 1 1 1 1 1 1 1 1 1 1 1 1 1 1 1 1 1 1 1 1 1 1 1\n",
      " 1 1 1 1 1 1 1 1 1 1 1 1 1 1 1 1 1 1 1 1 1 1 1 1 1 1 1 1 1 1 1 1]\n"
     ]
    }
   ],
   "source": [
    "datafile='playlist_data_21oct_withoutdups.csv'\n",
    "df=pd.read_csv(datafile,sep='|')\n",
    "\n",
    "df = df[df['playlist'].isin(['country', 'happy']) ]\n",
    "\n",
    "tmp_X = df.iloc[:,4:18]\n",
    "tmp_y = df.iloc[:,18:19]\n",
    "\n",
    "tmp_y['playlist'] = tmp_y['playlist'].astype('category')\n",
    "\n",
    "print(tmp_y['playlist'].unique())\n",
    "classes = (tmp_y['playlist'].unique().tolist())\n",
    "class_names = sorted(classes)\n",
    "print(class_names)\n",
    "tmp_y['playlist_codes']=tmp_y['playlist'].cat.codes\n",
    "scaler = StandardScaler()\n",
    "StandardScaler(copy=True, with_mean=True, with_std=True)\n",
    "X=scaler.fit_transform(tmp_X)\n",
    "y=np.ravel(tmp_y['playlist_codes'])\n",
    "print(len(X))\n",
    "print(len(y))\n",
    "\n",
    "\n",
    "print(y)"
   ]
  },
  {
   "cell_type": "code",
   "execution_count": 212,
   "metadata": {},
   "outputs": [
    {
     "name": "stdout",
     "output_type": "stream",
     "text": [
      "[0.72361809 0.73869347 0.76884422 0.7839196  0.75252525]\n",
      "Accuracy: 0.75 (+/- 0.04)\n"
     ]
    }
   ],
   "source": [
    "from sklearn.model_selection import cross_val_score\n",
    "clf = svm.SVC(C=1)\n",
    "scores = cross_val_score(clf, X, y, cv=5)\n",
    "print(scores)\n",
    "print(\"Accuracy: %0.2f (+/- %0.2f)\" % (scores.mean(), scores.std() * 2))"
   ]
  },
  {
   "cell_type": "code",
   "execution_count": 213,
   "metadata": {},
   "outputs": [
    {
     "name": "stdout",
     "output_type": "stream",
     "text": [
      "[0.77889447 0.74371859 0.7638191  0.8241206  0.72222222]\n",
      "Accuracy: 0.77 (+/- 0.07)\n"
     ]
    }
   ],
   "source": [
    "from sklearn.model_selection import cross_val_score\n",
    "clf = RandomForestClassifier(bootstrap=True, class_weight=None, criterion='entropy',\n",
    "            max_depth=11, max_features='auto', max_leaf_nodes=None,\n",
    "            min_impurity_decrease=0.0, min_impurity_split=None,\n",
    "            min_samples_leaf=14, min_samples_split=3,\n",
    "            min_weight_fraction_leaf=0.0, n_estimators=400, n_jobs=1,\n",
    "            oob_score=False, random_state=None, verbose=0,\n",
    "            warm_start=False)\n",
    "scores = cross_val_score(clf, X, y, cv=5)\n",
    "print(scores)\n",
    "print(\"Accuracy: %0.2f (+/- %0.2f)\" % (scores.mean(), scores.std() * 2))"
   ]
  },
  {
   "cell_type": "markdown",
   "metadata": {},
   "source": [
    "# C11"
   ]
  },
  {
   "cell_type": "markdown",
   "metadata": {},
   "source": [
    "1. rock -- class 1 -- 0\n",
    "2. romantic, sad - class 2 -- 1"
   ]
  },
  {
   "cell_type": "code",
   "execution_count": 214,
   "metadata": {},
   "outputs": [
    {
     "name": "stdout",
     "output_type": "stream",
     "text": [
      "[sad, romantic, rock]\n",
      "Categories (3, object): [sad, romantic, rock]\n",
      "['rock', 'romantic', 'sad']\n",
      "2563\n",
      "2563\n",
      "[1 1 1 ... 1 1 1]\n",
      "[1 1 1 ... 1 1 1]\n"
     ]
    }
   ],
   "source": [
    "datafile='playlist_data_21oct_withoutdups.csv'\n",
    "df=pd.read_csv(datafile,sep='|')\n",
    "\n",
    "df = df[df['playlist'].isin(['rock', 'romantic', 'sad']) ]\n",
    "\n",
    "tmp_X = df.iloc[:,4:18]\n",
    "tmp_y = df.iloc[:,18:19]\n",
    "\n",
    "tmp_y['playlist'] = tmp_y['playlist'].astype('category')\n",
    "\n",
    "print(tmp_y['playlist'].unique())\n",
    "classes = (tmp_y['playlist'].unique().tolist())\n",
    "class_names = sorted(classes)\n",
    "print(class_names)\n",
    "tmp_y['playlist_codes']=tmp_y['playlist'].cat.codes\n",
    "scaler = StandardScaler()\n",
    "StandardScaler(copy=True, with_mean=True, with_std=True)\n",
    "X=scaler.fit_transform(tmp_X)\n",
    "y=np.ravel(tmp_y['playlist_codes'])\n",
    "print(len(X))\n",
    "print(len(y))\n",
    "#jazz and classical get label = 1\n",
    "new_labels = []\n",
    "for i in y:\n",
    "    if i == 0:\n",
    "        new_labels.append(0)\n",
    "    else:\n",
    "        new_labels.append(1)\n",
    "y = np.asarray(new_labels)\n",
    "print(y)\n",
    "print(y)"
   ]
  },
  {
   "cell_type": "code",
   "execution_count": 215,
   "metadata": {},
   "outputs": [
    {
     "name": "stdout",
     "output_type": "stream",
     "text": [
      "[0.81871345 0.84795322 0.78947368 0.86132812 0.91015625]\n",
      "Accuracy: 0.85 (+/- 0.08)\n"
     ]
    }
   ],
   "source": [
    "from sklearn.model_selection import cross_val_score\n",
    "clf = svm.SVC(C=1)\n",
    "scores = cross_val_score(clf, X, y, cv=5)\n",
    "print(scores)\n",
    "print(\"Accuracy: %0.2f (+/- %0.2f)\" % (scores.mean(), scores.std() * 2))"
   ]
  },
  {
   "cell_type": "code",
   "execution_count": 216,
   "metadata": {},
   "outputs": [
    {
     "name": "stdout",
     "output_type": "stream",
     "text": [
      "[0.83430799 0.84795322 0.79922027 0.8515625  0.93554688]\n",
      "Accuracy: 0.85 (+/- 0.09)\n"
     ]
    }
   ],
   "source": [
    "from sklearn.model_selection import cross_val_score\n",
    "clf = RandomForestClassifier(bootstrap=True, class_weight=None, criterion='entropy',\n",
    "            max_depth=11, max_features='auto', max_leaf_nodes=None,\n",
    "            min_impurity_decrease=0.0, min_impurity_split=None,\n",
    "            min_samples_leaf=14, min_samples_split=3,\n",
    "            min_weight_fraction_leaf=0.0, n_estimators=400, n_jobs=1,\n",
    "            oob_score=False, random_state=None, verbose=0,\n",
    "            warm_start=False)\n",
    "scores = cross_val_score(clf, X, y, cv=5)\n",
    "print(scores)\n",
    "print(\"Accuracy: %0.2f (+/- %0.2f)\" % (scores.mean(), scores.std() * 2))"
   ]
  },
  {
   "cell_type": "markdown",
   "metadata": {},
   "source": [
    "# C13"
   ]
  },
  {
   "cell_type": "code",
   "execution_count": 217,
   "metadata": {},
   "outputs": [
    {
     "name": "stdout",
     "output_type": "stream",
     "text": [
      "[sad, romantic]\n",
      "Categories (2, object): [sad, romantic]\n",
      "['romantic', 'sad']\n",
      "2078\n",
      "2078\n",
      "[1 1 1 ... 1 1 1]\n"
     ]
    }
   ],
   "source": [
    "datafile='playlist_data_21oct_withoutdups.csv'\n",
    "df=pd.read_csv(datafile,sep='|')\n",
    "\n",
    "df = df[df['playlist'].isin(['romantic', 'sad']) ]\n",
    "\n",
    "tmp_X = df.iloc[:,4:18]\n",
    "tmp_y = df.iloc[:,18:19]\n",
    "\n",
    "tmp_y['playlist'] = tmp_y['playlist'].astype('category')\n",
    "\n",
    "print(tmp_y['playlist'].unique())\n",
    "classes = (tmp_y['playlist'].unique().tolist())\n",
    "class_names = sorted(classes)\n",
    "print(class_names)\n",
    "tmp_y['playlist_codes']=tmp_y['playlist'].cat.codes\n",
    "scaler = StandardScaler()\n",
    "StandardScaler(copy=True, with_mean=True, with_std=True)\n",
    "X=scaler.fit_transform(tmp_X)\n",
    "y=np.ravel(tmp_y['playlist_codes'])\n",
    "print(len(X))\n",
    "print(len(y))\n",
    "\n",
    "print(y)"
   ]
  },
  {
   "cell_type": "code",
   "execution_count": 218,
   "metadata": {},
   "outputs": [
    {
     "name": "stdout",
     "output_type": "stream",
     "text": [
      "[0.558753   0.64423077 0.6939759  0.68433735 0.65542169]\n",
      "Accuracy: 0.65 (+/- 0.10)\n"
     ]
    }
   ],
   "source": [
    "from sklearn.model_selection import cross_val_score\n",
    "clf = svm.SVC(C=1)\n",
    "scores = cross_val_score(clf, X, y, cv=5)\n",
    "print(scores)\n",
    "print(\"Accuracy: %0.2f (+/- %0.2f)\" % (scores.mean(), scores.std() * 2))"
   ]
  },
  {
   "cell_type": "code",
   "execution_count": 219,
   "metadata": {},
   "outputs": [
    {
     "name": "stdout",
     "output_type": "stream",
     "text": [
      "[0.59472422 0.65384615 0.67951807 0.62650602 0.62891566]\n",
      "Accuracy: 0.64 (+/- 0.06)\n"
     ]
    }
   ],
   "source": [
    "from sklearn.model_selection import cross_val_score\n",
    "clf = RandomForestClassifier(bootstrap=True, class_weight=None, criterion='entropy',\n",
    "            max_depth=11, max_features='auto', max_leaf_nodes=None,\n",
    "            min_impurity_decrease=0.0, min_impurity_split=None,\n",
    "            min_samples_leaf=14, min_samples_split=3,\n",
    "            min_weight_fraction_leaf=0.0, n_estimators=400, n_jobs=1,\n",
    "            oob_score=False, random_state=None, verbose=0,\n",
    "            warm_start=False)\n",
    "scores = cross_val_score(clf, X, y, cv=5)\n",
    "print(scores)\n",
    "print(\"Accuracy: %0.2f (+/- %0.2f)\" % (scores.mean(), scores.std() * 2))"
   ]
  },
  {
   "cell_type": "code",
   "execution_count": null,
   "metadata": {},
   "outputs": [],
   "source": []
  }
 ],
 "metadata": {
  "kernelspec": {
   "display_name": "Python 3",
   "language": "python",
   "name": "python3"
  },
  "language_info": {
   "codemirror_mode": {
    "name": "ipython",
    "version": 3
   },
   "file_extension": ".py",
   "mimetype": "text/x-python",
   "name": "python",
   "nbconvert_exporter": "python",
   "pygments_lexer": "ipython3",
   "version": "3.6.5"
  }
 },
 "nbformat": 4,
 "nbformat_minor": 2
}
