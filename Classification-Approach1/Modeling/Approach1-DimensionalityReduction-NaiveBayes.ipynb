{
 "cells": [
  {
   "cell_type": "code",
   "execution_count": 23,
   "metadata": {},
   "outputs": [],
   "source": [
    "import pandas as pd\n",
    "import numpy as np\n",
    "from sklearn.preprocessing import StandardScaler\n",
    "from sklearn.decomposition import PCA\n",
    "import matplotlib.pyplot as plt\n",
    "import math\n",
    "from sklearn.model_selection import KFold\n",
    "#from sklearn.model_selection import GridSearchCV\n",
    "from sklearn.naive_bayes import GaussianNB\n",
    "#from sklearn.discriminant_analysis import LinearDiscriminantAnalysis, QuadraticDiscriminantAnalysis\n",
    "from sklearn.metrics import accuracy_score\n",
    "from sklearn.metrics import precision_recall_fscore_support\n",
    "\n",
    "# datafile has no duplicates (not a multilabelling problem)\n",
    "datafile='/home/seherkhan/myfiles/coursework/usc/fall2018/MLforDI/project/FinalDraft/data/playlist_data_21oct_withoutdups.csv'\n",
    "df=pd.read_csv(datafile,sep='|')\n",
    "#print df\n",
    "#print len(df)\n",
    "tmp_X = df.iloc[:,4:18]\n",
    "tmp_y = df.iloc[:,18:19]\n",
    "tmp_y['playlist'] = tmp_y['playlist'].astype('category')\n",
    "tmp_y['playlist_codes']=tmp_y['playlist'].cat.codes\n",
    "scaler = StandardScaler()\n",
    "StandardScaler(copy=True, with_mean=True, with_std=True)\n",
    "X=scaler.fit_transform(tmp_X)\n",
    "y=np.ravel(tmp_y['playlist_codes'])"
   ]
  },
  {
   "cell_type": "code",
   "execution_count": 3,
   "metadata": {},
   "outputs": [
    {
     "data": {
      "image/png": "[encoded data removed]",
      "text/plain": [
       "<Figure size 432x288 with 1 Axes>"
      ]
     },
     "metadata": {
      "needs_background": "light"
     },
     "output_type": "display_data"
    }
   ],
   "source": [
    "pca = PCA().fit(X)\n",
    "plt.plot(pca.explained_variance_)\n",
    "plt.xlabel('number of components')\n",
    "plt.ylabel('eigenvalues'); # dont think this is eigenvalue exactly\n",
    "plt.show()"
   ]
  },
  {
   "cell_type": "code",
   "execution_count": 4,
   "metadata": {},
   "outputs": [
    {
     "data": {
      "image/png": "[encoded data removed]",
      "text/plain": [
       "<Figure size 432x288 with 1 Axes>"
      ]
     },
     "metadata": {
      "needs_background": "light"
     },
     "output_type": "display_data"
    }
   ],
   "source": [
    "plt.plot(np.cumsum(pca.explained_variance_ratio_))\n",
    "plt.xlabel('number of components')\n",
    "plt.ylabel('cumulative explained variance');\n",
    "plt.show()"
   ]
  },
  {
   "cell_type": "code",
   "execution_count": 9,
   "metadata": {},
   "outputs": [
    {
     "name": "stdout",
     "output_type": "stream",
     "text": [
      "Retain  4  components.\n"
     ]
    }
   ],
   "source": [
    "# criteria 1: number of components till where variance of each component is >=1\n",
    "i=0\n",
    "var=1\n",
    "while(var>=1):\n",
    "    var = pca.explained_variance_[i]\n",
    "    i=i+1\n",
    "compos_to_retain = i-1\n",
    "print \"Retain \",compos_to_retain,\" components.\"\n",
    "X_transformed_cr1 = PCA(compos_to_retain).fit_transform(X)"
   ]
  },
  {
   "cell_type": "code",
   "execution_count": 16,
   "metadata": {},
   "outputs": [
    {
     "name": "stdout",
     "output_type": "stream",
     "text": [
      "Retain  10  components.\n"
     ]
    }
   ],
   "source": [
    "# criteria 2: number of components till where >=90% of variance is explained\n",
    "i=0\n",
    "cum_var=0\n",
    "while(cum_var<=0.90):\n",
    "    cum_var += pca.explained_variance_ratio_[i]\n",
    "    i=i+1\n",
    "compos_to_retain = i-1\n",
    "print \"Retain \",compos_to_retain,\" components.\"\n",
    "X_transformed_cr2 = PCA(compos_to_retain).fit_transform(X)"
   ]
  },
  {
   "cell_type": "code",
   "execution_count": 17,
   "metadata": {},
   "outputs": [
    {
     "name": "stdout",
     "output_type": "stream",
     "text": [
      "Retain 14 components.\n"
     ]
    }
   ],
   "source": [
    "# criteria 3: retain number of components where cum_var flattens out (in this case all components)\n",
    "print \"Retain 14 components.\"\n",
    "X_transformed_cr3 = PCA(compos_to_retain).fit_transform(X)"
   ]
  },
  {
   "cell_type": "code",
   "execution_count": 24,
   "metadata": {},
   "outputs": [
    {
     "name": "stdout",
     "output_type": "stream",
     "text": [
      "Gaussian Naive Bayes\n",
      "transformed X, criteria 1\n",
      "accuracy = 0.355011135857461\n",
      "prediction = 0.355011135857461\n",
      "recall = 0.355011135857461\n",
      "f_score = 0.355011135857461\n",
      "transformed X, criteria 3\n",
      "accuracy = 0.3774610244988864\n",
      "prediction = 0.3774610244988864\n",
      "recall = 0.3774610244988864\n",
      "f_score = 0.3774610244988864\n",
      "transformed X, criteria 2\n",
      "accuracy = 0.37714922048997773\n",
      "prediction = 0.37714922048997773\n",
      "recall = 0.37714922048997773\n",
      "f_score = 0.37714922048997773\n",
      "original X\n",
      "accuracy = 0.37523385300668155\n",
      "prediction = 0.37523385300668155\n",
      "recall = 0.37523385300668155\n",
      "f_score = 0.37523385300668155\n"
     ]
    }
   ],
   "source": [
    "from sklearn.naive_bayes import GaussianNB\n",
    "print 'Gaussian Naive Bayes'\n",
    "gnb = GaussianNB()\n",
    "\n",
    "for Xkey,X in {\"original X\":X,\n",
    "               \"transformed X, criteria 1\":X_transformed_cr1,\n",
    "               \"transformed X, criteria 2\":X_transformed_cr2,\n",
    "               \"transformed X, criteria 3\":X_transformed_cr3}.iteritems():\n",
    "    print Xkey\n",
    "    accuracy = 0\n",
    "    prediction = 0 \n",
    "    recall = 0\n",
    "    f_score = 0\n",
    "    for n in range(5):\n",
    "        kf = KFold(n_splits=2,shuffle=True)\n",
    "\n",
    "        for train_index,test_index in kf.split(X,y):\n",
    "            X_1,X_2=X[train_index],X[test_index]\n",
    "            y_1,y_2=y[train_index],y[test_index]\n",
    "\n",
    "        X_train = X_1\n",
    "        X_test = X_2\n",
    "        y_train = y_1\n",
    "        y_test = y_2\n",
    "\n",
    "        gnb.fit(X_train, y_train)\n",
    "        pred = gnb.predict(X_test)\n",
    "        score = precision_recall_fscore_support(y_test, pred, labels=range(14), average='micro')\n",
    "        accuracy = accuracy + accuracy_score(y_test, pred, normalize=True)\n",
    "        prediction = prediction + score[0]\n",
    "        recall = recall + score[1]\n",
    "        f_score = f_score + score[2]\n",
    "\n",
    "        X_train = X_2\n",
    "        X_test = X_1\n",
    "        y_train = y_2\n",
    "        y_test = y_1\n",
    "\n",
    "        gnb.fit(X_train, y_train)\n",
    "        pred = gnb.predict(X_test)\n",
    "        score = precision_recall_fscore_support(y_test, pred, labels=range(14), average='micro')\n",
    "        accuracy = accuracy + accuracy_score(y_test, pred, normalize=True)\n",
    "        prediction = prediction + score[0]\n",
    "        recall = recall + score[1]\n",
    "        f_score = f_score + score[2]\n",
    "\n",
    "    # calculate average accuracy\n",
    "\n",
    "    accuracy = accuracy/10\n",
    "    prediction = prediction/10 \n",
    "    recall = recall/10\n",
    "    f_score = f_score/10\n",
    "\n",
    "    print 'accuracy =', accuracy\n",
    "    print 'prediction =', prediction\n",
    "    print 'recall =', recall\n",
    "    print 'f_score =', f_score"
   ]
  },
  {
   "cell_type": "code",
   "execution_count": null,
   "metadata": {},
   "outputs": [],
   "source": []
  }
 ],
 "metadata": {
  "kernelspec": {
   "display_name": "Python 2",
   "language": "python",
   "name": "python2"
  },
  "language_info": {
   "codemirror_mode": {
    "name": "ipython",
    "version": 2
   },
   "file_extension": ".py",
   "mimetype": "text/x-python",
   "name": "python",
   "nbconvert_exporter": "python",
   "pygments_lexer": "ipython2",
   "version": "2.7.15rc1"
  }
 },
 "nbformat": 4,
 "nbformat_minor": 2
}
